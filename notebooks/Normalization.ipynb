{
 "cells": [
  {
   "cell_type": "markdown",
   "id": "fae271dd-6067-4be8-97a5-764210ddda68",
   "metadata": {},
   "source": [
    "# Подготовка таблиц"
   ]
  },
  {
   "cell_type": "code",
   "execution_count": 1,
   "id": "0436b8af-0543-4d4b-9b99-1dc10fda9a25",
   "metadata": {},
   "outputs": [
    {
     "name": "stdout",
     "output_type": "stream",
     "text": [
      "Collecting psycopg2-binary\n",
      "  Downloading psycopg2_binary-2.9.10-cp311-cp311-manylinux_2_17_x86_64.manylinux2014_x86_64.whl.metadata (4.9 kB)\n",
      "Downloading psycopg2_binary-2.9.10-cp311-cp311-manylinux_2_17_x86_64.manylinux2014_x86_64.whl (3.0 MB)\n",
      "\u001b[2K   \u001b[90m━━━━━━━━━━━━━━━━━━━━━━━━━━━━━━━━━━━━━━━━\u001b[0m \u001b[32m3.0/3.0 MB\u001b[0m \u001b[31m5.9 MB/s\u001b[0m eta \u001b[36m0:00:00\u001b[0m00:01\u001b[0m00:01\u001b[0m\n",
      "\u001b[?25hInstalling collected packages: psycopg2-binary\n",
      "Successfully installed psycopg2-binary-2.9.10\n"
     ]
    }
   ],
   "source": [
    "!pip install psycopg2-binary"
   ]
  },
  {
   "cell_type": "code",
   "execution_count": 2,
   "id": "991019c5-acce-4ab8-a1df-3f81ce71c023",
   "metadata": {},
   "outputs": [],
   "source": [
    "import psycopg2 as pg"
   ]
  },
  {
   "cell_type": "code",
   "execution_count": 3,
   "id": "f969dc10-a4fa-4292-88a9-08d739bf42af",
   "metadata": {},
   "outputs": [],
   "source": [
    "conn = pg.connect(\n",
    "    dbname=\"big_data_snowflake\",\n",
    "    user=\"admin\",\n",
    "    password=\"DogeCoin\",\n",
    "    host=\"demo13b.ddnsfree.com\",\n",
    "    port=\"30000\"\n",
    ")"
   ]
  },
  {
   "cell_type": "code",
   "execution_count": 4,
   "id": "20d85181-07d0-4a42-9091-c1117819e75e",
   "metadata": {},
   "outputs": [],
   "source": [
    "cur = conn.cursor()\n",
    "\n",
    "with open('ddl.sql', 'r') as f:\n",
    "    cur.execute(f.read())\n",
    "\n",
    "conn.commit()\n",
    "\n",
    "cur.close()\n",
    "conn.close()"
   ]
  },
  {
   "cell_type": "markdown",
   "id": "8fb3345c-6b8b-43f6-baad-bd8890c7689c",
   "metadata": {},
   "source": [
    "# Загрузка основного датасета из БД"
   ]
  },
  {
   "cell_type": "code",
   "execution_count": 5,
   "id": "2a7c089e-f76c-455b-bee3-423220425be5",
   "metadata": {},
   "outputs": [],
   "source": [
    "from pyspark.sql import SparkSession"
   ]
  },
  {
   "cell_type": "code",
   "execution_count": 6,
   "id": "5878a982-3685-4c76-b287-fec2d4139554",
   "metadata": {},
   "outputs": [],
   "source": [
    "import os\n",
    "os.environ['PYSPARK_SUBMIT_ARGS'] = '--jars /home/jovyan/work/jars/postgresql-42.7.3.jar pyspark-shell'"
   ]
  },
  {
   "cell_type": "code",
   "execution_count": 7,
   "id": "027e17f1-8cb4-4f25-86bf-0ceb41f8511b",
   "metadata": {},
   "outputs": [],
   "source": [
    "spark = SparkSession.builder.appName(\"DataLoader\").getOrCreate()"
   ]
  },
  {
   "cell_type": "code",
   "execution_count": 8,
   "id": "0e2d5faa-4a40-4251-be58-465bc1fab067",
   "metadata": {},
   "outputs": [],
   "source": [
    "jdbc_url = \"jdbc:postgresql://demo13b.ddnsfree.com:30000/big_data_snowflake\"\n",
    "properties = {\n",
    "    \"user\": \"admin\",\n",
    "    \"password\": \"DogeCoin\",\n",
    "    \"driver\": \"org.postgresql.Driver\"\n",
    "}"
   ]
  },
  {
   "cell_type": "code",
   "execution_count": 9,
   "id": "fbcc1f8b-698d-40cf-a9dc-be5970723066",
   "metadata": {},
   "outputs": [],
   "source": [
    "mock_data_df = spark.read.jdbc(url=jdbc_url, properties=properties, table='mock_data')"
   ]
  },
  {
   "cell_type": "code",
   "execution_count": 10,
   "id": "7811183c-11e8-485d-9a6c-55119594d572",
   "metadata": {},
   "outputs": [
    {
     "data": {
      "text/plain": [
       "Row(id=1, customer_first_name='Barron', customer_last_name='Rawlyns', customer_age=61, customer_email='bmassingham0@army.mil', customer_country='China', customer_postal_code='', customer_pet_type='cat', customer_pet_name='Priscella', customer_pet_breed='Labrador Retriever', seller_first_name='Bevan', seller_last_name='Massingham', seller_email='bmassingham0@answers.com', seller_country='Indonesia', seller_postal_code='', product_name='Dog Food', product_category='Food', product_price=77.97000122070312, product_quantity=89, sale_date='5/14/2021', sale_customer_id=1, sale_seller_id=1, sale_product_id=1, sale_quantity=4, sale_total_price=487.70001220703125, store_name='Youopia', store_location='Suite 75', store_city='Xichehe', store_state='', store_country='United States', store_phone='564-244-8660', store_email='bmassingham0@networkadvertising.org', pet_category='Cats', product_weight=13.399999618530273, product_color='Indigo', product_size='Medium', product_brand='Skajo', product_material='Steel', product_description='Aliquam quis turpis eget elit sodales scelerisque. Mauris sit amet eros. Suspendisse accumsan tortor quis turpis.\\n\\nSed ante. Vivamus tortor. Duis mattis egestas metus.', product_rating=2.0999999046325684, product_reviews=97, product_release_date='10/19/2011', product_expiry_date='10/21/2028', supplier_name='Tagcat', supplier_contact='Bevan Massingham', supplier_email='bmassingham0@unblog.fr', supplier_phone='914-877-7062', supplier_address='Suite 25', supplier_city='Kletek', supplier_country='China')"
      ]
     },
     "execution_count": 10,
     "metadata": {},
     "output_type": "execute_result"
    }
   ],
   "source": [
    "mock_data_df.head()"
   ]
  },
  {
   "cell_type": "markdown",
   "id": "d319d48b-181f-4921-9585-e7c8dd7a08f7",
   "metadata": {},
   "source": [
    "# Заполнение таблиц"
   ]
  },
  {
   "cell_type": "markdown",
   "id": "dcce650e-29e3-4bd6-842d-81e0d1e9549b",
   "metadata": {},
   "source": [
    "### Покупатели"
   ]
  },
  {
   "cell_type": "code",
   "execution_count": 11,
   "id": "73dccd55-479a-46de-99dd-026a75e4662e",
   "metadata": {},
   "outputs": [],
   "source": [
    "customers_df = mock_data_df.select(\n",
    "    'customer_first_name', \n",
    "    'customer_last_name',\n",
    "    'customer_age',\n",
    "    'customer_email',\n",
    "    'customer_country',\n",
    "    'customer_postal_code',\n",
    "    'customer_pet_type',\n",
    "    'customer_pet_name',\n",
    "    'customer_pet_breed'\n",
    ").distinct()"
   ]
  },
  {
   "cell_type": "code",
   "execution_count": 12,
   "id": "66634c3c-5dfa-4db5-89b2-073cf0ade9de",
   "metadata": {},
   "outputs": [],
   "source": [
    "customers_df = customers_df\\\n",
    "    .withColumnRenamed('customer_first_name', 'first_name')\\\n",
    "    .withColumnRenamed('customer_last_name', 'last_name')\\\n",
    "    .withColumnRenamed('customer_age', 'age')\\\n",
    "    .withColumnRenamed('customer_email', 'email')\\\n",
    "    .withColumnRenamed('customer_country', 'country')\\\n",
    "    .withColumnRenamed('customer_postal_code', 'postal_code')\\\n",
    "    .withColumnRenamed('customer_pet_type', 'pet_type')\\\n",
    "    .withColumnRenamed('customer_pet_name', 'pet_name')\\\n",
    "    .withColumnRenamed('customer_pet_breed', 'pet_breed')"
   ]
  },
  {
   "cell_type": "code",
   "execution_count": 13,
   "id": "70d42e78-adfe-4de7-94c8-0a2aed0e47c9",
   "metadata": {},
   "outputs": [
    {
     "name": "stdout",
     "output_type": "stream",
     "text": [
      "+----------+----------+---+--------------------+-------------+-----------+--------+--------+------------------+\n",
      "|first_name| last_name|age|               email|      country|postal_code|pet_type|pet_name|         pet_breed|\n",
      "+----------+----------+---+--------------------+-------------+-----------+--------+--------+------------------+\n",
      "|    Woodie| Barnsdale| 66|rbutchardcv@arste...|       France|49117 CEDEX|    bird|    Bing|          Parakeet|\n",
      "|    Karlik|  Hansford| 57|wwakefordgl@sitem...|    Indonesia|           |     dog| Chiquia|Labrador Retriever|\n",
      "|   Sherrie|   Flatley| 38|epinnigerkx@print...|        Japan|   979-1543|    bird|Felicdad|Labrador Retriever|\n",
      "|     Carry|      Brea| 51|rlervenmy@ustream.tv| South Africa|       8468|     cat|   Fabio|          Parakeet|\n",
      "|      Elli|  Cunniffe| 36|ilidgertwood5x@sf...|  Philippines|       4326|    bird|Jermaine|          Parakeet|\n",
      "|    Emelen|   Godding| 47|  aaltoftsdl@cmu.edu|    Indonesia|           |     cat|    Nani|           Siamese|\n",
      "|      Esme|   Gerardi| 38|gmarlinpn@t-onlin...|       Poland|     84-240|     cat|    Joli|Labrador Retriever|\n",
      "|   Bernard| Le Claire| 61|harundellba@natur...|        China|           |     cat|   Jareb|Labrador Retriever|\n",
      "|    Derwin|     Dufty| 49|lmaliffebw@rakute...|United States|      33355|     dog| Bettina|Labrador Retriever|\n",
      "|       Pen|      Hail| 66|abaissf5@nydailyn...|   Luxembourg|     L-9780|     cat|  Adrian|Labrador Retriever|\n",
      "|    Juline|   De Leek| 42|  mcarlonq0@narod.ru|      Germany|      76199|     cat| Ophelie|Labrador Retriever|\n",
      "|   Yalonda|     Dibbe| 45|gdiddams1r@oakley...|       Mexico|      39030|     cat|  Melita|           Siamese|\n",
      "|       Zoe|  Millbank| 43|tsalmon66@reverbn...|       Latvia|           |     cat|Lorraine|          Parakeet|\n",
      "|   Delbert|Martindale| 83|cbullas77@dedecms...|        China|           |    bird|   Reggy|          Parakeet|\n",
      "|   Laurena|    Duddle| 45|  dgaliford78@pen.io|    Indonesia|           |     cat| Louella|           Siamese|\n",
      "|      Shay|   Creggan| 28|fchifneypi@blogge...|  Philippines|       2701|     dog|  Tamiko|           Siamese|\n",
      "|     Jinny|   Mocquer| 53|drowlinson33@enga...|        China|           |     dog|   Erich|           Siamese|\n",
      "|   Analise|   Couvert| 76|esargerson7a@econ...|        Kenya|           |    bird|   Lynna|           Siamese|\n",
      "|   Carline|    Pardoe| 36|tbeasleyeh@so-net...|       France|22304 CEDEX|    bird|  Farrah|          Parakeet|\n",
      "|  Hendrick|  Britcher| 28| rbreedym1@exblog.jp|    Indonesia|           |     dog|Wallache|Labrador Retriever|\n",
      "+----------+----------+---+--------------------+-------------+-----------+--------+--------+------------------+\n",
      "only showing top 20 rows\n",
      "\n"
     ]
    }
   ],
   "source": [
    "customers_df.show()"
   ]
  },
  {
   "cell_type": "code",
   "execution_count": 14,
   "id": "7f5e30ed-6375-4013-ac7c-5bade811c769",
   "metadata": {},
   "outputs": [],
   "source": [
    "customers_df.write.jdbc(url=jdbc_url, table=\"customers\", mode=\"append\", properties=properties)"
   ]
  },
  {
   "cell_type": "markdown",
   "id": "7c4a34ce-37ce-4591-9391-672a79e4afc7",
   "metadata": {},
   "source": [
    "### Продавцы"
   ]
  },
  {
   "cell_type": "code",
   "execution_count": 15,
   "id": "f974d2a9-b3e5-4058-9a04-1857c90826b3",
   "metadata": {},
   "outputs": [],
   "source": [
    "sellers_df = mock_data_df.select(\n",
    "    'seller_first_name',\n",
    "    'seller_last_name',\n",
    "    'seller_email',\n",
    "    'seller_country',\n",
    "    'seller_postal_code'\n",
    ").distinct()"
   ]
  },
  {
   "cell_type": "code",
   "execution_count": 16,
   "id": "49c654e4-27af-47fd-8007-5d0a90429389",
   "metadata": {},
   "outputs": [
    {
     "name": "stdout",
     "output_type": "stream",
     "text": [
      "+----------+-----------+--------------------+-----------+-----------+\n",
      "|first_name|  last_name|               email|    country|postal_code|\n",
      "+----------+-----------+--------------------+-----------+-----------+\n",
      "|      Jade|    Poulden|jpoulden2c@source...|      China|           |\n",
      "|     Meier|     Byrnes|mbyrnesf8@hubpage...|    Ireland|        W91|\n",
      "| Granville|      Hemms|  ghemmshk@salon.com|     Mexico|      56617|\n",
      "|   Brander|    Paradin|  bparadinc8@163.com|      China|           |\n",
      "|    Evelyn|  Trubshawe|etrubshawenb@lati...|    Ukraine|           |\n",
      "|Georgianna|  Bradbrook|gbradbrooknx@page...|Philippines|       5103|\n",
      "|   Katleen|     Cosins|   kcosins8@wisc.edu|     Serbia|           |\n",
      "|   Annabel|     Brumen|   abrumen4s@com.com| Azerbaijan|           |\n",
      "|    Wendel|  Castleman|wcastleman8f@naro...|    Morocco|           |\n",
      "|   Pernell|   Flacknoe|pflacknoe98@netwo...|   Colombia|     734048|\n",
      "|    Bordie|  Collymore|bcollymore9f@hc36...|      Italy|      35129|\n",
      "|      Tony|   Bramhall|tbramhall9v@about.me|      China|           |\n",
      "|      Gabi|       Levi|   glevib3@issuu.com| Uzbekistan|           |\n",
      "| Marmaduke| Le Monnier|   mleee@typepad.com|     Brazil|  20000-000|\n",
      "|      Emmi|   Haresign|eharesignhh@xinhu...|      Malta|        SVR|\n",
      "|   Susanna|  Hardwidge|shardwidge4q@nasa...|     France|34114 CEDEX|\n",
      "|   Diannne|    Moehler|dmoehler55@miibei...|  Indonesia|           |\n",
      "|   Eugenio|   Pulbrook|epulbrook75@pages...|    Armenia|           |\n",
      "|     Josee|       Wade|  jwade9g@flavors.me|     Poland|     87-721|\n",
      "|      Jeno|Yakunchikov|jyakunchikovd8@ca...|     Russia|     671712|\n",
      "+----------+-----------+--------------------+-----------+-----------+\n",
      "only showing top 20 rows\n",
      "\n"
     ]
    }
   ],
   "source": [
    "sellers_df = sellers_df\\\n",
    "    .withColumnRenamed('seller_first_name', 'first_name')\\\n",
    "    .withColumnRenamed('seller_last_name', 'last_name')\\\n",
    "    .withColumnRenamed('seller_email', 'email')\\\n",
    "    .withColumnRenamed('seller_country', 'country')\\\n",
    "    .withColumnRenamed('seller_postal_code', 'postal_code')\n",
    "\n",
    "sellers_df.show()"
   ]
  },
  {
   "cell_type": "code",
   "execution_count": 17,
   "id": "b735a531-276a-4fda-90ce-0504516eb5d9",
   "metadata": {},
   "outputs": [],
   "source": [
    "sellers_df.write.jdbc(url=jdbc_url, table=\"sellers\", mode=\"append\", properties=properties)"
   ]
  },
  {
   "cell_type": "markdown",
   "id": "20c47eb8-674d-42e3-bd0c-10eab8129a97",
   "metadata": {},
   "source": [
    "### Товары"
   ]
  },
  {
   "cell_type": "code",
   "execution_count": 18,
   "id": "3b8054c7-96ea-4bc7-a651-b96ea918aac6",
   "metadata": {},
   "outputs": [],
   "source": [
    "products_df = mock_data_df.select(\n",
    "    'product_name',\n",
    "    'product_category',\n",
    "    'pet_category',\n",
    "    'product_price',\n",
    "    'product_quantity',\n",
    "    'product_weight',\n",
    "    'product_color',\n",
    "    'product_size',\n",
    "    'product_brand',\n",
    "    'product_material',\n",
    "    'product_description',\n",
    "    'product_rating',\n",
    "    'product_reviews',\n",
    "    'product_release_date',\n",
    "    'product_expiry_date'\n",
    ").distinct()"
   ]
  },
  {
   "cell_type": "code",
   "execution_count": 19,
   "id": "462f4bf4-ad21-40c9-8ae9-d153b5b83596",
   "metadata": {},
   "outputs": [
    {
     "name": "stdout",
     "output_type": "stream",
     "text": [
      "+---------+--------+------------+-----+--------+------+----------+------+---------+----------+--------------------+------+-------+------------+-----------+\n",
      "|     name|category|pet_category|price|quantity|weight|     color|  size|    brand|  material|         description|rating|reviews|release_date|expiry_date|\n",
      "+---------+--------+------------+-----+--------+------+----------+------+---------+----------+--------------------+------+-------+------------+-----------+\n",
      "|  Cat Toy|    Food|        Fish|27.23|      42|   4.0|    Fuscia|Medium|   Yakijo|     Glass|In congue. Etiam ...|   1.7|    890|   5/15/2011| 12/31/2028|\n",
      "| Dog Food|    Cage|        Dogs|49.02|      17|  36.2|    Maroon|Medium|Linklinks|     Vinyl|Cras non velit ne...|   4.1|     25|   2/26/2017|   6/2/2030|\n",
      "|Bird Cage|     Toy|    Reptiles|85.53|      26|  44.3|      Blue| Small|   Tambee|Plexiglass|Morbi non lectus....|   2.1|    691|  12/23/2020|  3/14/2024|\n",
      "|Bird Cage|    Cage|        Fish|  6.3|      59|  45.5|       Red| Small|   Tagcat|     Steel|Sed sagittis. Nam...|   1.2|    686|   4/15/2022|   5/2/2027|\n",
      "|Bird Cage|     Toy|        Cats|83.27|      12|  11.6|     Khaki|Medium| Fivechat|      Wood|Fusce posuere fel...|   2.2|    277|   9/21/2022|   2/3/2025|\n",
      "|Bird Cage|     Toy|        Fish| 32.5|      70|   0.8| Turquoise| Small| Buzzbean|     Steel|Duis consequat du...|   4.5|    505|   9/18/2010|  9/21/2023|\n",
      "|Bird Cage|    Food|        Dogs|78.03|      10|  26.4|    Indigo|Medium|  Skinder|   Plastic|In quis justo. Ma...|   3.4|    755|   8/15/2010|  7/22/2029|\n",
      "|  Cat Toy|    Cage|    Reptiles|70.57|      36|   4.0|    Orange|Medium|   Skimia|     Brass|Morbi non lectus....|   3.0|    256|   6/19/2022| 12/16/2025|\n",
      "|Bird Cage|    Food|       Birds|57.09|      73|  12.2|    Maroon|Medium|     Jayo|  Aluminum|Cras mi pede, mal...|   4.5|    599|   9/21/2012|  5/15/2027|\n",
      "|  Cat Toy|     Toy|    Reptiles|33.33|      58|   7.0|    Violet| Small|    Vimbo|   Plastic|Cras non velit ne...|   1.5|    897|   4/23/2011|   5/4/2030|\n",
      "| Dog Food|    Cage|       Birds|88.17|      49|  47.9|    Fuscia| Large| Fivechat|    Rubber|Sed ante. Vivamus...|   2.4|    767|  10/29/2015|   8/1/2025|\n",
      "|Bird Cage|    Cage|        Dogs| 3.73|      70|  20.8|    Violet| Small|  Tagfeed|     Brass|Nam ultrices, lib...|   3.4|    334|   2/23/2016|  7/27/2025|\n",
      "| Dog Food|    Cage|        Fish| 41.9|      88|  15.4| Goldenrod| Large| Kanoodle|Plexiglass|Duis bibendum. Mo...|   5.0|    148|   3/16/2017|  4/29/2025|\n",
      "| Dog Food|    Food|        Dogs|97.82|       1|  28.0|     Green| Small| Devpoint|      Wood|Sed sagittis. Nam...|   2.0|    422|    4/5/2021|  5/16/2030|\n",
      "| Dog Food|    Cage|    Reptiles|94.86|      34|  45.5|    Orange| Large|  Edgeify|    Rubber|In congue. Etiam ...|   4.8|    868|    6/5/2011|   8/3/2025|\n",
      "|  Cat Toy|     Toy|       Birds|27.37|      87|  48.6|       Red| Small|     Vitz|    Rubber|Duis consequat du...|   2.2|    125|    5/8/2016|  2/11/2025|\n",
      "| Dog Food|     Toy|       Birds|70.55|      23|  41.8|Aquamarine|Medium|     Vipe|    Rubber|Sed sagittis. Nam...|   2.6|    207|    7/1/2015| 12/27/2025|\n",
      "|Bird Cage|    Food|        Dogs| 39.2|      85|   4.6|      Teal|Medium| Devpulse|   Plastic|Cras mi pede, mal...|   1.2|     38|  12/30/2016| 11/24/2029|\n",
      "|Bird Cage|     Toy|    Reptiles|73.69|      19|  32.9|   Crimson|Medium| Snaptags|     Glass|In hac habitasse ...|   1.7|    544|   1/21/2020|  5/22/2024|\n",
      "| Dog Food|    Food|    Reptiles|60.33|      11|  24.0|      Teal| Large|   Oyoloo|    Rubber|Cum sociis natoqu...|   3.6|     63|  10/15/2010|  8/25/2025|\n",
      "+---------+--------+------------+-----+--------+------+----------+------+---------+----------+--------------------+------+-------+------------+-----------+\n",
      "only showing top 20 rows\n",
      "\n"
     ]
    }
   ],
   "source": [
    "products_df = products_df\\\n",
    "    .withColumnRenamed('product_name', 'name')\\\n",
    "    .withColumnRenamed('product_category', 'category')\\\n",
    "    .withColumnRenamed('product_price', 'price')\\\n",
    "    .withColumnRenamed('product_quantity', 'quantity')\\\n",
    "    .withColumnRenamed('product_weight', 'weight')\\\n",
    "    .withColumnRenamed('product_color', 'color')\\\n",
    "    .withColumnRenamed('product_size', 'size')\\\n",
    "    .withColumnRenamed('product_brand', 'brand')\\\n",
    "    .withColumnRenamed('product_material', 'material')\\\n",
    "    .withColumnRenamed('product_description', 'description')\\\n",
    "    .withColumnRenamed('product_rating', 'rating')\\\n",
    "    .withColumnRenamed('product_reviews', 'reviews')\\\n",
    "    .withColumnRenamed('product_release_date', 'release_date')\\\n",
    "    .withColumnRenamed('product_expiry_date', 'expiry_date')\\\n",
    "\n",
    "products_df.show()"
   ]
  },
  {
   "cell_type": "code",
   "execution_count": 20,
   "id": "9850c458-46ee-4ddc-8717-dc3d77841e0b",
   "metadata": {},
   "outputs": [],
   "source": [
    "from pyspark.sql.functions import to_date\n",
    "spark.conf.set(\"spark.sql.legacy.timeParserPolicy\", \"LEGACY\")"
   ]
  },
  {
   "cell_type": "code",
   "execution_count": 21,
   "id": "494a4760-0615-4a50-a468-d28bba549cb0",
   "metadata": {},
   "outputs": [
    {
     "name": "stdout",
     "output_type": "stream",
     "text": [
      "root\n",
      " |-- name: string (nullable = true)\n",
      " |-- category: string (nullable = true)\n",
      " |-- pet_category: string (nullable = true)\n",
      " |-- price: float (nullable = true)\n",
      " |-- quantity: integer (nullable = true)\n",
      " |-- weight: float (nullable = true)\n",
      " |-- color: string (nullable = true)\n",
      " |-- size: string (nullable = true)\n",
      " |-- brand: string (nullable = true)\n",
      " |-- material: string (nullable = true)\n",
      " |-- description: string (nullable = true)\n",
      " |-- rating: float (nullable = true)\n",
      " |-- reviews: integer (nullable = true)\n",
      " |-- release_date: date (nullable = true)\n",
      " |-- expiry_date: date (nullable = true)\n",
      "\n"
     ]
    }
   ],
   "source": [
    "products_df = products_df\\\n",
    "    .withColumn('release_date', to_date('release_date', 'M/d/yyyy'))\\\n",
    "    .withColumn('expiry_date', to_date('expiry_date', 'M/d/yyyy'))\n",
    "\n",
    "products_df.printSchema()"
   ]
  },
  {
   "cell_type": "code",
   "execution_count": 22,
   "id": "a549bbf4-ff7a-4e5b-9e6f-b5a6b5f74442",
   "metadata": {},
   "outputs": [],
   "source": [
    "products_df.write.jdbc(url=jdbc_url, table=\"products\", mode=\"append\", properties=properties)"
   ]
  },
  {
   "cell_type": "markdown",
   "id": "544cd494-2aed-40d3-9451-8ed61261e800",
   "metadata": {},
   "source": [
    "### Магазины"
   ]
  },
  {
   "cell_type": "code",
   "execution_count": 23,
   "id": "a96c6de2-0213-48e8-af33-91cf0e420f20",
   "metadata": {},
   "outputs": [],
   "source": [
    "stores_df = mock_data_df.select(\n",
    "    'store_name',\n",
    "    'store_location',\n",
    "    'store_city',\n",
    "    'store_state',\n",
    "    'store_country',\n",
    "    'store_phone',\n",
    "    'store_email'\n",
    ").distinct()"
   ]
  },
  {
   "cell_type": "code",
   "execution_count": 24,
   "id": "7623786b-fdec-43a5-ad22-add7f6c979ad",
   "metadata": {},
   "outputs": [
    {
     "name": "stdout",
     "output_type": "stream",
     "text": [
      "+----------+------------+-------------------+-----+-----------+------------+--------------------+\n",
      "|      name|    location|               city|state|    country|       phone|               email|\n",
      "+----------+------------+-------------------+-----+-----------+------------+--------------------+\n",
      "|    Avamba|     Apt 633|            Sakurai|     |  Venezuela|302-743-6989| btolletb@dion.ne.jp|\n",
      "|   Oyonder|    Apt 1879|               Perm|     |      China|113-568-4127|kcadell6k@fastcom...|\n",
      "|Fivebridge|    Apt 1486|            Miskolc|   BZ|     Russia|298-216-4562|dheskin76@vinaora...|\n",
      "|     Jaloo|     Suite 4|           Sarongan|     |     Latvia|330-967-2831|msellorju@skyrock...|\n",
      "|     Quimm|    Apt 1809|Figueiró dos Vinhos|   10|    Morocco|577-217-8194| tnunnery2g@imdb.com|\n",
      "|  Gigazoom|     Apt 854|    Kuragaki-kosugi|     |  Indonesia|845-948-6044|spendlebury48@img...|\n",
      "|    Skinix|  13th Floor|           Pasauran|     |     Poland|155-265-8133|bclyburnei@bbc.co.uk|\n",
      "|   Dabvine|   1st Floor|           Zibreira|   14|     Brazil|325-798-2504|auccelliju@smugmu...|\n",
      "|  Photojam|    Suite 54|           Ad Dilam|     |   Thailand|303-460-4565| aillesley87@nyu.edu|\n",
      "|   Dabfeed|  17th Floor|          Yukuhashi|     |      China|217-812-4811|        agalemt@g.co|\n",
      "|  Zoomcast|  11th Floor|     José Bonifácio|     |      China|602-472-4479| lgibbettsnp@com.com|\n",
      "|      Mydo|     Apt 178|             Butere|     |Philippines|712-445-3530|lmoggan5v@zimbio.com|\n",
      "|    Devify|    Apt 1665|           Portland|   OR|      Japan|971-244-6693|    rvanlp@nifty.com|\n",
      "|    Rhybox|PO Box 59235|La Sebala du Mornag|     |     Poland|953-735-6113|kbonhill5w@earthl...|\n",
      "|  Bluezoom|    Room 122|              Zhili|     |  Indonesia|578-228-0533|tjardin85@zimbio.com|\n",
      "|   Camimbo|    Room 976|          Pardubice|     |      China|309-648-3627|    cliffee5@ihg.com|\n",
      "|   Gabtype|  11th Floor|          Chengfeng|     |Philippines|408-386-0761|epeerjv@statcount...|\n",
      "|   Gabtune|   1st Floor|               Yako|     |    Croatia|762-116-5414|fbeasantrg@answer...|\n",
      "|  Digitube|   9th Floor|         Santa Rita|  GUA|    Finland|844-886-6139|   amclae1e@about.me|\n",
      "|    Wikivu|    Room 428|              Ranot|     |       Cuba|154-716-1076|     bdea9@jimdo.com|\n",
      "+----------+------------+-------------------+-----+-----------+------------+--------------------+\n",
      "only showing top 20 rows\n",
      "\n"
     ]
    }
   ],
   "source": [
    "stores_df = stores_df\\\n",
    "    .withColumnRenamed('store_name', 'name')\\\n",
    "    .withColumnRenamed('store_location', 'location')\\\n",
    "    .withColumnRenamed('store_city', 'city')\\\n",
    "    .withColumnRenamed('store_state', 'state')\\\n",
    "    .withColumnRenamed('store_country', 'country')\\\n",
    "    .withColumnRenamed('store_phone', 'phone')\\\n",
    "    .withColumnRenamed('store_email', 'email')\n",
    "\n",
    "stores_df.show()"
   ]
  },
  {
   "cell_type": "code",
   "execution_count": 25,
   "id": "68db20f7-59f1-41db-bafb-7ef4b0d4db36",
   "metadata": {},
   "outputs": [],
   "source": [
    "stores_df.write.jdbc(url=jdbc_url, table=\"stores\", mode=\"append\", properties=properties)"
   ]
  },
  {
   "cell_type": "markdown",
   "id": "f851befc-58fa-4a84-aa5a-19b50bdb1791",
   "metadata": {},
   "source": [
    "### Поставщики"
   ]
  },
  {
   "cell_type": "code",
   "execution_count": 26,
   "id": "6f11e112-d59f-4266-aff6-45b5f0bdde71",
   "metadata": {},
   "outputs": [],
   "source": [
    "suppliers_df = mock_data_df.select(\n",
    "    'supplier_name',\n",
    "    'supplier_contact',\n",
    "    'supplier_email',\n",
    "    'supplier_phone',\n",
    "    'supplier_address',\n",
    "    'supplier_city',\n",
    "    'supplier_country'\n",
    ").distinct()"
   ]
  },
  {
   "cell_type": "code",
   "execution_count": 27,
   "id": "3f4dd3bf-6927-4792-850a-b766ca37f03f",
   "metadata": {},
   "outputs": [
    {
     "name": "stdout",
     "output_type": "stream",
     "text": [
      "+------------+------------------+--------------------+------------+------------+------------+------------+\n",
      "|        name|           contact|               email|       phone|     address|        city|     country|\n",
      "+------------+------------------+--------------------+------------+------------+------------+------------+\n",
      "|       LiveZ|    Kandy Brinkley|kbrinkley1t@admin.ch|857-497-1268|    Suite 33|Puerto Bello| Philippines|\n",
      "|       Meejo| Letisha Kennerley|lkennerleye7@psu.edu|745-964-4521|    Room 318|     Karatsu|       China|\n",
      "|       Quinu|    Tisha Colquyte| tcolquytepz@icq.com|485-924-2211|  11th Floor|       Louta|    Colombia|\n",
      "|       Kamba|       Gena Malloy|    gmalloy71@hp.com|253-333-8052|    Suite 66|       Kotes|South Africa|\n",
      "|     Innojam|      Rhody Caroll|rcaroll99@elegant...|451-439-9637|PO Box 21978|  Carpentras|      Canada|\n",
      "|        Mita|   Laurie Waistell|lwaistell19@surve...|193-723-9251|PO Box 82426|    Koryčany|      Greece|\n",
      "|  Topicshots|Cairistiona Totaro|ctotaroat@blogger...|715-425-1871|     Suite 2|    Yongyang|     Vietnam|\n",
      "|       Roomm|      Aili McCarle|amccarlefr@google.pl|364-341-8794|     Apt 530|       Ordem|     Bahrain|\n",
      "|      Oyoloo|    Connie Tudball|ctudball26@usatod...|949-690-4046|    Suite 66|      Valera|     Tunisia|\n",
      "|Chatterpoint|       Abeu Maceur|amaceur8k@sphinn.com|490-782-0565|     Room 60|       Dasha|       China|\n",
      "|  Photospace|     Raddy Le Noir|      rleb1@usgs.gov|167-630-2722|   Room 1627| Ấp Tân Ngãi|    Pakistan|\n",
      "|        Jayo|     Adriaens Gill|agill6r@reference...|297-372-7870| PO Box 6682|       Nyala|       China|\n",
      "|   Flashspan|  Stillman Soitoux|ssoitoux63@archiv...|935-444-8719|    Suite 29|      Panjir|   Indonesia|\n",
      "|       Tazzy|    Cissiee Charke|ccharke76@wunderg...|464-689-3965|    Suite 55|     Bangkal|       China|\n",
      "|       Oodoo|     Mirilla Nacey|mnacey8g@arstechn...|606-223-9686|   Suite 100|   Hashimoto|     Ukraine|\n",
      "|        Lazz|    Fern Pawlowicz|fpawlowiczbn@hubp...|241-141-6581|PO Box 84544|       Chiba|       China|\n",
      "|     Dynazzy|    Caresse Meaker|cmeaker1l@eventbr...|188-576-0146|     Apt 197|      Santol| Philippines|\n",
      "|   Edgepulse|    Donia Brookton|dbrookton4t@digg.com|375-873-2640|    Room 649|      Blagaj|   Indonesia|\n",
      "|     Tagopia|  Noelani Moreinis|nmoreinis8n@vkont...|483-534-9347|PO Box 17074|    Tangxian| Philippines|\n",
      "|    Realcube|   Hernando Boddam|  hboddamb8@ning.com|311-410-2132|PO Box 51939|        Baki|   Argentina|\n",
      "+------------+------------------+--------------------+------------+------------+------------+------------+\n",
      "only showing top 20 rows\n",
      "\n"
     ]
    }
   ],
   "source": [
    "suppliers_df = suppliers_df\\\n",
    "    .withColumnRenamed('supplier_name', 'name')\\\n",
    "    .withColumnRenamed('supplier_contact', 'contact')\\\n",
    "    .withColumnRenamed('supplier_email', 'email')\\\n",
    "    .withColumnRenamed('supplier_phone', 'phone')\\\n",
    "    .withColumnRenamed('supplier_address', 'address')\\\n",
    "    .withColumnRenamed('supplier_city', 'city')\\\n",
    "    .withColumnRenamed('supplier_country', 'country')\n",
    "\n",
    "suppliers_df.show()"
   ]
  },
  {
   "cell_type": "code",
   "execution_count": 28,
   "id": "49d3d40e-2a50-4575-a3ac-e16d4cc56ca9",
   "metadata": {},
   "outputs": [],
   "source": [
    "suppliers_df.write.jdbc(url=jdbc_url, table=\"suppliers\", mode=\"append\", properties=properties)"
   ]
  },
  {
   "cell_type": "markdown",
   "id": "4827e4b9-c03a-458a-a4f4-39521ba087ac",
   "metadata": {},
   "source": [
    "### Продажи"
   ]
  },
  {
   "cell_type": "code",
   "execution_count": 29,
   "id": "84b913f7-01f7-4059-b5ae-75f862dfdb85",
   "metadata": {},
   "outputs": [],
   "source": [
    "from pyspark.sql.functions import col"
   ]
  },
  {
   "cell_type": "code",
   "execution_count": 30,
   "id": "ded2550b-9f4e-48a6-9ecd-e31ec1c0e2f6",
   "metadata": {},
   "outputs": [],
   "source": [
    "customers_full_df = spark.read.jdbc(url=jdbc_url, properties=properties, table='customers')\n",
    "sellers_full_df = spark.read.jdbc(url=jdbc_url, properties=properties, table='sellers')\n",
    "products_full_df = spark.read.jdbc(url=jdbc_url, properties=properties, table='products')\n",
    "stores_full_df = spark.read.jdbc(url=jdbc_url, properties=properties, table='stores')\n",
    "suppliers_full_df = spark.read.jdbc(url=jdbc_url, properties=properties, table='suppliers')"
   ]
  },
  {
   "cell_type": "code",
   "execution_count": 31,
   "id": "1afc77d8-3d15-4ffb-b585-e00e81020ef7",
   "metadata": {},
   "outputs": [
    {
     "name": "stdout",
     "output_type": "stream",
     "text": [
      "+-----------+---------+----------+--------+-----------+----------+--------+-----------+\n",
      "|customer_id|seller_id|product_id|store_id|supplier_id|      date|quantity|total_price|\n",
      "+-----------+---------+----------+--------+-----------+----------+--------+-----------+\n",
      "|          3|     3583|      6218|     535|       7083|2021-01-14|       7|      19.18|\n",
      "|        476|     7351|      1195|    1442|       1887|2021-03-26|       9|     143.98|\n",
      "|        959|     3330|      2431|    2526|       1882|2021-02-05|      10|     460.94|\n",
      "|       1229|     9566|      6592|    8038|       6883|2021-08-06|       7|     325.13|\n",
      "|       1318|     1273|      6720|     241|       5866|2021-03-10|       7|     364.95|\n",
      "|       1471|     1629|       978|    9824|       7015|2021-01-07|       1|     400.37|\n",
      "|       1812|     2200|      1961|    4206|       8596|2021-06-01|       6|     166.29|\n",
      "|       2204|     5813|      3459|    5073|       7737|2021-04-02|       3|      32.49|\n",
      "|       2210|     6763|      2230|    4324|       2783|2021-08-03|       7|     285.37|\n",
      "|       2708|     2060|       671|    2500|       2420|2021-06-02|       9|      325.5|\n",
      "|       3137|     8257|      4286|      98|       8394|2021-02-16|       3|      257.4|\n",
      "|       3223|     1478|      9332|    5513|       4482|2021-08-19|       7|     370.49|\n",
      "|       4090|     8506|      6965|    8787|       8382|2021-06-12|       9|     436.79|\n",
      "|       4165|      641|      6415|    6380|       8642|2021-08-20|       3|      88.41|\n",
      "|       4304|     7563|      2749|    2498|       6525|2021-05-14|       6|     120.38|\n",
      "|       4388|     5416|      1148|    1922|       1816|2021-12-03|       6|      89.39|\n",
      "|       5149|     3646|      9046|    4217|       3624|2021-07-06|       1|      271.1|\n",
      "|       5587|     6388|      4937|    6448|       7801|2021-06-28|       6|     380.55|\n",
      "|       5652|     1270|      2117|    4599|       3886|2021-08-11|       4|     134.34|\n",
      "|       6037|     9348|      1794|    2047|       9008|2021-09-13|       9|     260.35|\n",
      "+-----------+---------+----------+--------+-----------+----------+--------+-----------+\n",
      "only showing top 20 rows\n",
      "\n"
     ]
    }
   ],
   "source": [
    "sales_df = mock_data_df\\\n",
    "    .join(\n",
    "        customers_full_df,\n",
    "        (mock_data_df.customer_email == customers_full_df.email)\n",
    "    ).join(\n",
    "        sellers_full_df,\n",
    "        (mock_data_df.seller_email == sellers_full_df.email)\n",
    "    ).join(\n",
    "        stores_full_df,\n",
    "        (mock_data_df.store_email == stores_full_df.email)\n",
    "    ).join(\n",
    "        suppliers_full_df,\n",
    "        (mock_data_df.supplier_email == suppliers_full_df.email)\n",
    "    ).join(\n",
    "        products_full_df,\n",
    "        (mock_data_df.product_name == products_full_df.name) &\n",
    "        (mock_data_df.product_category == products_full_df.category) &\n",
    "        (mock_data_df.pet_category == products_full_df.pet_category) &\n",
    "        (mock_data_df.product_weight == products_full_df.weight) & \n",
    "        (mock_data_df.product_color == products_full_df.color) &\n",
    "        (mock_data_df.product_size == products_full_df.size) &\n",
    "        (mock_data_df.product_material == products_full_df.material) &\n",
    "        (mock_data_df.product_price == products_full_df.price) &\n",
    "        (mock_data_df.product_brand == products_full_df.brand) &\n",
    "        (mock_data_df.product_description == products_full_df.description)\n",
    "    ).select(\n",
    "        customers_full_df.id.alias('customer_id'),\n",
    "        sellers_full_df.id.alias('seller_id'),\n",
    "        products_full_df.id.alias('product_id'),\n",
    "        stores_full_df.id.alias('store_id'),\n",
    "        suppliers_full_df.id.alias('supplier_id'),\n",
    "        to_date(mock_data_df.sale_date, 'M/d/yyyy').alias('date'),\n",
    "        mock_data_df.sale_quantity.alias('quantity'),\n",
    "        mock_data_df.sale_total_price.alias('total_price')\n",
    ")\n",
    "\n",
    "sales_df.show()"
   ]
  },
  {
   "cell_type": "code",
   "execution_count": 32,
   "id": "2f81a6c3-a1c8-4f1e-80e1-c8ebe2c30961",
   "metadata": {},
   "outputs": [],
   "source": [
    "sales_df.write.jdbc(url=jdbc_url, table=\"sales\", mode=\"append\", properties=properties)"
   ]
  }
 ],
 "metadata": {
  "kernelspec": {
   "display_name": "Python 3 (ipykernel)",
   "language": "python",
   "name": "python3"
  },
  "language_info": {
   "codemirror_mode": {
    "name": "ipython",
    "version": 3
   },
   "file_extension": ".py",
   "mimetype": "text/x-python",
   "name": "python",
   "nbconvert_exporter": "python",
   "pygments_lexer": "ipython3",
   "version": "3.11.6"
  }
 },
 "nbformat": 4,
 "nbformat_minor": 5
}
