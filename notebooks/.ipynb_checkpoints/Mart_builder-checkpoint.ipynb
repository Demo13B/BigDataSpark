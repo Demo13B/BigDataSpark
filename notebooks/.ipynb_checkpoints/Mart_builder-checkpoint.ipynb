{
 "cells": [
  {
   "cell_type": "markdown",
   "id": "a9caa5d6-44d6-469e-9b60-904c3c309b9d",
   "metadata": {},
   "source": [
    "# Создание витрин в Clickhouse"
   ]
  },
  {
   "cell_type": "markdown",
   "id": "87433273-19e8-4774-a203-6cb414b014ef",
   "metadata": {},
   "source": [
    "### Загрузка DDL в Clickhouse"
   ]
  },
  {
   "cell_type": "code",
   "execution_count": 1,
   "id": "aab64b3a-3c9b-4d98-8e8e-354b1e8ae42d",
   "metadata": {},
   "outputs": [
    {
     "name": "stdout",
     "output_type": "stream",
     "text": [
      "Requirement already satisfied: clickhouse-connect in /opt/conda/lib/python3.11/site-packages (0.8.17)\n",
      "Requirement already satisfied: certifi in /opt/conda/lib/python3.11/site-packages (from clickhouse-connect) (2023.7.22)\n",
      "Requirement already satisfied: urllib3>=1.26 in /opt/conda/lib/python3.11/site-packages (from clickhouse-connect) (2.0.7)\n",
      "Requirement already satisfied: pytz in /opt/conda/lib/python3.11/site-packages (from clickhouse-connect) (2023.3.post1)\n",
      "Requirement already satisfied: zstandard in /opt/conda/lib/python3.11/site-packages (from clickhouse-connect) (0.21.0)\n",
      "Requirement already satisfied: lz4 in /opt/conda/lib/python3.11/site-packages (from clickhouse-connect) (4.3.2)\n"
     ]
    }
   ],
   "source": [
    "!pip install clickhouse-connect"
   ]
  },
  {
   "cell_type": "code",
   "execution_count": 2,
   "id": "21f2f945-0bf0-4fa5-aed9-4e009d69e1ba",
   "metadata": {},
   "outputs": [],
   "source": [
    "import clickhouse_connect\n",
    "\n",
    "client = clickhouse_connect.get_client(\n",
    "    host='demo13b.ddnsfree.com',\n",
    "    port=30001,\n",
    "    username='tim',\n",
    "    password='DogeCoin'\n",
    ")\n",
    "\n",
    "with open('clickhouse_ddl.sql', 'r') as f:\n",
    "    commands = f.read().split(';')\n",
    "\n",
    "for command in commands[:-1]:\n",
    "    client.command(command.strip())"
   ]
  },
  {
   "cell_type": "markdown",
   "id": "1382b8a7-e78e-4912-af6c-5ca097aa25e5",
   "metadata": {},
   "source": [
    "### Загрузка таблиц из postgres"
   ]
  },
  {
   "cell_type": "code",
   "execution_count": 3,
   "id": "ab3e5735-ea09-4f83-8cdc-61aa6a132bbd",
   "metadata": {},
   "outputs": [],
   "source": [
    "from pyspark.sql import SparkSession"
   ]
  },
  {
   "cell_type": "code",
   "execution_count": 4,
   "id": "09afde5d-628a-4919-a1e8-d186d026c93d",
   "metadata": {},
   "outputs": [],
   "source": [
    "import os\n",
    "os.environ['PYSPARK_SUBMIT_ARGS'] = '--jars /home/jovyan/work/jars/postgresql-42.7.3.jar,/home/jovyan/work/jars/clickhouse-jdbc-0.4.6-all.jar pyspark-shell'"
   ]
  },
  {
   "cell_type": "code",
   "execution_count": 5,
   "id": "f6d61de3-ae85-4fd1-add4-be32e0f2fa82",
   "metadata": {},
   "outputs": [],
   "source": [
    "spark = SparkSession.builder.appName(\"DataLoader\").getOrCreate()"
   ]
  },
  {
   "cell_type": "code",
   "execution_count": 6,
   "id": "a5cec158-b17a-4263-b8eb-1c69b8d998a9",
   "metadata": {},
   "outputs": [],
   "source": [
    "postgres_url = \"jdbc:postgresql://demo13b.ddnsfree.com:30000/big_data_snowflake\"\n",
    "postgres_properties = {\n",
    "    \"user\": \"admin\",\n",
    "    \"password\": \"DogeCoin\",\n",
    "    \"driver\": \"org.postgresql.Driver\"\n",
    "}"
   ]
  },
  {
   "cell_type": "code",
   "execution_count": 7,
   "id": "ba76bddd-f5c7-460d-a71b-199065496bb6",
   "metadata": {},
   "outputs": [],
   "source": [
    "customers_df = spark.read.jdbc(url=postgres_url, properties=postgres_properties, table='customers')\n",
    "sellers_df = spark.read.jdbc(url=postgres_url, properties=postgres_properties, table='sellers')\n",
    "stores_df = spark.read.jdbc(url=postgres_url, properties=postgres_properties, table='stores')\n",
    "suppliers_df = spark.read.jdbc(url=postgres_url, properties=postgres_properties, table='suppliers')\n",
    "products_df = spark.read.jdbc(url=postgres_url, properties=postgres_properties, table='products')\n",
    "sales_df = spark.read.jdbc(url=postgres_url, properties=postgres_properties, table='sales')"
   ]
  },
  {
   "cell_type": "markdown",
   "id": "9c1c3703-fc8b-4f9b-a780-ffea28fb9036",
   "metadata": {},
   "source": [
    "### Витрина продаж по продуктам"
   ]
  },
  {
   "cell_type": "code",
   "execution_count": 8,
   "id": "92238f20-0556-43a2-9a0d-ea491ff40b0d",
   "metadata": {},
   "outputs": [],
   "source": [
    "from pyspark.sql.functions import sum, avg, count, desc, round, year, month, col"
   ]
  },
  {
   "cell_type": "code",
   "execution_count": 9,
   "id": "d67195b9-68cc-4a59-85ee-cb603431abce",
   "metadata": {},
   "outputs": [
    {
     "name": "stdout",
     "output_type": "stream",
     "text": [
      "+----------+------------+-------------+--------------------+-----+----------------+--------------+-------------+-----------+----------+-------------+\n",
      "|product_id|product_name|        brand|         description|price|product_category|total_quantity|total_revenue|total_sales|avg_rating|total_reviews|\n",
      "+----------+------------+-------------+--------------------+-----+----------------+--------------+-------------+-----------+----------+-------------+\n",
      "|      5850|     Cat Toy|    Bubblebox|Donec diam neque,...|62.03|            Cage|             7|       436.43|          1|       1.1|          286|\n",
      "|       588|    Dog Food|     Feedspan|Praesent blandit....|95.97|            Food|             9|       398.55|          1|       4.1|           60|\n",
      "|      5284|    Dog Food|      Camimbo|Morbi non lectus....| 5.71|            Food|             9|       281.92|          1|       2.8|          473|\n",
      "|      8583|     Cat Toy|  Twitterwire|Duis bibendum. Mo...|30.06|            Food|             5|       374.77|          1|       4.8|          990|\n",
      "|      3636|   Bird Cage|       Tagcat|Cras mi pede, mal...|90.56|            Food|             1|       495.68|          1|       2.0|          897|\n",
      "|      6627|   Bird Cage|        Vimbo|Integer tincidunt...|94.11|            Cage|             3|       461.52|          1|       3.1|          642|\n",
      "|      1482|   Bird Cage|        Quinu|Aliquam quis turp...|46.91|            Cage|             1|       156.44|          1|       1.6|          261|\n",
      "|       145|    Dog Food|     Centimia|Duis bibendum. Mo...|36.67|             Toy|             8|       454.43|          1|       3.3|          216|\n",
      "|      8223|     Cat Toy|Thoughtbridge|Sed ante. Vivamus...| 7.55|             Toy|             9|       157.72|          1|       4.9|          809|\n",
      "|      1935|    Dog Food|     Photobug|Proin interdum ma...| 86.0|             Toy|             5|       240.23|          1|       1.6|          416|\n",
      "|      7860|   Bird Cage|         Jayo|Pellentesque at n...|12.44|            Food|             2|       155.65|          1|       4.5|          104|\n",
      "|      5469|   Bird Cage|       BlogXS|Cras mi pede, mal...|35.64|            Cage|             3|       261.16|          1|       1.1|          930|\n",
      "|       271|    Dog Food|        Vinte|Aliquam quis turp...|71.91|            Food|             8|        59.09|          1|       3.6|          947|\n",
      "|      3857|    Dog Food|        InnoZ|Proin leo odio, p...|18.25|             Toy|             3|       270.84|          1|       4.7|          172|\n",
      "|      7791|   Bird Cage|        Quimm|Praesent blandit....|40.11|            Food|             3|       342.57|          1|       2.6|          683|\n",
      "|       577|     Cat Toy|  Thoughtblab|Nullam sit amet t...|48.89|             Toy|            10|       269.52|          1|       2.0|          160|\n",
      "|      5512|   Bird Cage|  Brainlounge|In quis justo. Ma...|23.03|             Toy|             4|       352.03|          1|       2.1|          634|\n",
      "|      1346|     Cat Toy|     Livepath|Vestibulum quam s...|87.22|            Food|             2|       433.09|          1|       2.1|          244|\n",
      "|      2437|   Bird Cage|         Yotz|Vestibulum quam s...|27.03|             Toy|             8|        78.81|          1|       1.2|          437|\n",
      "|      2701|   Bird Cage|     Flashset|Cum sociis natoqu...|55.89|             Toy|             6|       174.65|          1|       4.4|          534|\n",
      "+----------+------------+-------------+--------------------+-----+----------------+--------------+-------------+-----------+----------+-------------+\n",
      "only showing top 20 rows\n",
      "\n"
     ]
    }
   ],
   "source": [
    "product_mart = sales_df.join(\n",
    "    products_df,\n",
    "    (sales_df.product_id == products_df.id)\n",
    ").groupBy(\n",
    "    products_df.id.alias('product_id'),\n",
    "    products_df.name.alias('product_name'),\n",
    "    products_df.brand,\n",
    "    products_df.description,\n",
    "    products_df.price,\n",
    "    products_df.category.alias('product_category'),\n",
    ").agg(\n",
    "    sum(sales_df.quantity).alias('total_quantity'),\n",
    "    round(sum(sales_df.total_price), 2).alias('total_revenue'),\n",
    "    count('*').alias('total_sales'),\n",
    "    round(avg(products_df.rating), 2).alias('avg_rating'),\n",
    "    sum(products_df.reviews).alias('total_reviews')\n",
    ")\n",
    "\n",
    "product_mart.show()"
   ]
  },
  {
   "cell_type": "code",
   "execution_count": 10,
   "id": "59dc12cc-12cc-4999-89a0-b8188c22c831",
   "metadata": {},
   "outputs": [
    {
     "name": "stdout",
     "output_type": "stream",
     "text": [
      "+----------+------------+-----------+--------------------+-----+----------------+--------------+-------------+-----------+----------+-------------+\n",
      "|product_id|product_name|      brand|         description|price|product_category|total_quantity|total_revenue|total_sales|avg_rating|total_reviews|\n",
      "+----------+------------+-----------+--------------------+-----+----------------+--------------+-------------+-----------+----------+-------------+\n",
      "|      4987|   Bird Cage|      Skyvu|Quisque porta vol...|67.68|             Toy|            10|        74.65|          1|       1.5|          112|\n",
      "|      6690|     Cat Toy|      Quimm|Duis aliquam conv...|66.25|             Toy|            10|       453.14|          1|       3.0|          220|\n",
      "|      1685|     Cat Toy|    Gabtype|Cras non velit ne...|42.86|            Cage|            10|       409.68|          1|       4.1|          796|\n",
      "|      1264|   Bird Cage|Jabberstorm|Duis bibendum. Mo...|87.83|            Food|            10|        22.66|          1|       4.1|          531|\n",
      "|      6396|    Dog Food| Photospace|Phasellus sit ame...| 43.4|            Food|            10|       267.25|          1|       2.0|          148|\n",
      "|       577|     Cat Toy|Thoughtblab|Nullam sit amet t...|48.89|             Toy|            10|       269.52|          1|       2.0|          160|\n",
      "|      6608|    Dog Food|    Gabtype|Phasellus sit ame...|85.41|            Food|            10|       181.84|          1|       3.2|          517|\n",
      "|      3754|     Cat Toy|    Skilith|Duis bibendum, fe...|69.09|            Food|            10|       142.21|          1|       4.5|          873|\n",
      "|      8763|     Cat Toy|       Mudo|Duis consequat du...| 68.0|            Food|            10|       444.31|          1|       1.8|           24|\n",
      "|      1629|    Dog Food|    Gabvine|Proin interdum ma...|85.49|            Cage|            10|        456.0|          1|       1.5|          272|\n",
      "+----------+------------+-----------+--------------------+-----+----------------+--------------+-------------+-----------+----------+-------------+\n",
      "\n"
     ]
    }
   ],
   "source": [
    "top_10 = product_mart.orderBy(desc('total_quantity')).limit(10)\n",
    "\n",
    "top_10.show()"
   ]
  },
  {
   "cell_type": "code",
   "execution_count": 11,
   "id": "0135e496-3394-4741-9eba-506f22be24a9",
   "metadata": {},
   "outputs": [
    {
     "name": "stdout",
     "output_type": "stream",
     "text": [
      "+----------------+-------------+\n",
      "|product_category|total_revenue|\n",
      "+----------------+-------------+\n",
      "|            Cage|    831117.94|\n",
      "|            Food|    830632.55|\n",
      "|             Toy|    868101.63|\n",
      "+----------------+-------------+\n",
      "\n"
     ]
    }
   ],
   "source": [
    "category_revenue = product_mart.groupBy(\n",
    "    'product_category'\n",
    ").agg(\n",
    "    round(sum('total_revenue'), 2).alias('total_revenue')\n",
    ")\n",
    "\n",
    "category_revenue.show()"
   ]
  },
  {
   "cell_type": "code",
   "execution_count": 12,
   "id": "669b711b-15a7-4ab8-ac47-842884451f17",
   "metadata": {},
   "outputs": [],
   "source": [
    "clickhouse_url = \"jdbc:clickhouse://demo13b.ddnsfree.com:30001\"\n",
    "clickhouse_properties = {\n",
    "    \"user\": \"tim\",\n",
    "    \"password\": \"DogeCoin\",\n",
    "    \"driver\": \"com.clickhouse.jdbc.ClickHouseDriver\"\n",
    "}"
   ]
  },
  {
   "cell_type": "code",
   "execution_count": 13,
   "id": "1d158c17-643f-481c-a53d-099d82c51e5b",
   "metadata": {},
   "outputs": [],
   "source": [
    "product_mart.write.jdbc(url=clickhouse_url, properties=clickhouse_properties, mode='append', table='product_mart')"
   ]
  },
  {
   "cell_type": "markdown",
   "id": "054c4a34-1a53-4960-b4d5-7a65236218df",
   "metadata": {},
   "source": [
    "### Витрина продаж по клиентам"
   ]
  },
  {
   "cell_type": "code",
   "execution_count": 14,
   "id": "5bd68b79-1a98-4251-a8cd-425125f85e80",
   "metadata": {},
   "outputs": [
    {
     "name": "stdout",
     "output_type": "stream",
     "text": [
      "+-----------+----------+------------+--------------------+--------------------+-----------+-----------+---------------+\n",
      "|customer_id|first_name|   last_name|               email|             country|total_spent|avg_receipt|total_purchases|\n",
      "+-----------+----------+------------+--------------------+--------------------+-----------+-----------+---------------+\n",
      "|       2941|    Anissa|      Melson|lvesty6h@parallel...|            Bulgaria|     154.59|     154.59|              1|\n",
      "|       6879|  Gabriela|    Kerrigan|    gdecv@dion.ne.jp|               China|      277.6|      277.6|              1|\n",
      "|        487|    Moises|         Mea|cmelleygt@redcros...|              France|     469.85|     469.85|              1|\n",
      "|       4545|     Gabie|     Casassa|ssteerrm@amazon.c...|              Poland|     375.56|     375.56|              1|\n",
      "|        635|    Muriel|      Rubrow|jpoulden2c@discuz...|           Indonesia|     173.39|     173.39|              1|\n",
      "|       9192|      Dora|      Muslim|bfilyaev24@weathe...|             Albania|     162.65|     162.65|              1|\n",
      "|       3386|     Norri|    Neilands|ccansdell8o@fastc...|             Nigeria|     178.49|     178.49|              1|\n",
      "|       2526|     Prinz|    Anscombe|esharvillhg@imdb.com|Democratic Republ...|     205.67|     205.67|              1|\n",
      "|       6731|      Jose|    Carvilla|aroslingd0@discuz...|                Peru|     153.78|     153.78|              1|\n",
      "|       1362|      Nora|Milton-White|opavlenkonz@thegu...|           Indonesia|       24.8|       24.8|              1|\n",
      "|       1777|   Herbert|      Exeter|emackegg4h@google.nl|              Poland|     385.69|     385.69|              1|\n",
      "|       1236|  Katheryn|     Harbron|pmcilwainefy@sams...|               Japan|     459.49|     459.49|              1|\n",
      "|       5575|    Lolita|       Saggs|jmcgintyhh@clickb...|         Netherlands|     346.04|     346.04|              1|\n",
      "|       9863|   Shawnee|      Emeney|stumbeltyai@alexa...|         Philippines|     255.05|     255.05|              1|\n",
      "|       1609|    Gustav|        Veel|dgoldsberryex@pho...|            Barbados|      37.32|      37.32|              1|\n",
      "|       8504| Guenevere|     Grugerr| vogianyr@tripod.com|               China|      73.88|      73.88|              1|\n",
      "|        375|      Erda|      Ainley|gmaggi6m@printfri...|               Nepal|     360.51|     360.51|              1|\n",
      "|       6461|      Fran|   Sinclaire|pdabbesbh@over-bl...|         Philippines|     333.01|     333.01|              1|\n",
      "|       7972|    Wallie|      Haggis|lmolineje@oakley.com|              Russia|     314.19|     314.19|              1|\n",
      "|       7295|    Harman|      Tedder|gmacksteadol@webs...|              Poland|     420.75|     420.75|              1|\n",
      "+-----------+----------+------------+--------------------+--------------------+-----------+-----------+---------------+\n",
      "only showing top 20 rows\n",
      "\n"
     ]
    }
   ],
   "source": [
    "customers_mart = sales_df.join(\n",
    "    customers_df,\n",
    "    (sales_df.customer_id == customers_df.id)\n",
    ").groupBy(\n",
    "    customers_df.id.alias('customer_id'),\n",
    "    customers_df.first_name,\n",
    "    customers_df.last_name,\n",
    "    customers_df.email,\n",
    "    customers_df.country,\n",
    ").agg(\n",
    "    round(sum(sales_df.total_price), 2).alias('total_spent'),\n",
    "    round(avg(sales_df.total_price), 2).alias('avg_receipt'),\n",
    "    count('*').alias('total_purchases')\n",
    ")\n",
    "\n",
    "customers_mart.show()"
   ]
  },
  {
   "cell_type": "code",
   "execution_count": 15,
   "id": "288df428-1ace-4859-94f4-19b43a49e88c",
   "metadata": {},
   "outputs": [
    {
     "name": "stdout",
     "output_type": "stream",
     "text": [
      "+-----------+----------+----------+--------------------+---------+-----------+-----------+---------------+\n",
      "|customer_id|first_name| last_name|               email|  country|total_spent|avg_receipt|total_purchases|\n",
      "+-----------+----------+----------+--------------------+---------+-----------+-----------+---------------+\n",
      "|       6885|       Gus| Hartshorn| bfeasby57@youku.com|  Albania|     499.85|     499.85|              1|\n",
      "|       1487|     Hayes|    McKain|sstappardbp@busin...| Portugal|      499.8|      499.8|              1|\n",
      "|       8002|     Dawna|     Impey|    rivattspm@un.org|Indonesia|     499.76|     499.76|              1|\n",
      "|       4452|       Ava|     Lomas|dsorea0@geocities...|    China|     499.76|     499.76|              1|\n",
      "|       1772|   Lavinia| Horsburgh|previllh3@tinyurl...|   Poland|     499.73|     499.73|              1|\n",
      "|       5945|      Dame|Auchinleck|jthurnhamqe@sourc...|Indonesia|     499.71|     499.71|              1|\n",
      "|       1556|  Isahella|    Colley|bselewayi0@chron.com|   Russia|     499.69|     499.69|              1|\n",
      "|       4441|     Nicky|    Lattie|gcoupman2@bigcart...|   Mexico|     499.62|     499.62|              1|\n",
      "|       6039|    Sisely|  Bonevant|   wpulmano6@loc.gov|    China|     499.62|     499.62|              1|\n",
      "|       4527|      Eran|     Cotes|       svispof9@t.co|    China|     499.59|     499.59|              1|\n",
      "+-----------+----------+----------+--------------------+---------+-----------+-----------+---------------+\n",
      "\n"
     ]
    }
   ],
   "source": [
    "top_10_customers = customers_mart.orderBy(desc('total_spent')).limit(10)\n",
    "\n",
    "top_10_customers.show()"
   ]
  },
  {
   "cell_type": "code",
   "execution_count": 16,
   "id": "430a1acf-d7ed-48c0-b7a7-1f06aabaa956",
   "metadata": {},
   "outputs": [
    {
     "name": "stdout",
     "output_type": "stream",
     "text": [
      "+--------------+---------+\n",
      "|       country|customers|\n",
      "+--------------+---------+\n",
      "|         China|     1738|\n",
      "|     Indonesia|     1174|\n",
      "|        Russia|      628|\n",
      "|   Philippines|      555|\n",
      "|        Brazil|      385|\n",
      "|      Portugal|      336|\n",
      "|        Poland|      332|\n",
      "|        France|      322|\n",
      "|        Sweden|      264|\n",
      "| United States|      211|\n",
      "|         Japan|      201|\n",
      "|       Ukraine|      155|\n",
      "|      Colombia|      152|\n",
      "|Czech Republic|      140|\n",
      "|        Canada|      137|\n",
      "|      Thailand|      126|\n",
      "|          Peru|      123|\n",
      "|        Greece|      116|\n",
      "|     Argentina|      113|\n",
      "|       Nigeria|      103|\n",
      "+--------------+---------+\n",
      "only showing top 20 rows\n",
      "\n"
     ]
    }
   ],
   "source": [
    "customer_country_distribution = customers_mart.groupBy(\n",
    "    'country'\n",
    ").agg(\n",
    "    count('*').alias('customers')\n",
    ").orderBy(\n",
    "    desc('customers')\n",
    ")\n",
    "\n",
    "customer_country_distribution.show()"
   ]
  },
  {
   "cell_type": "code",
   "execution_count": 17,
   "id": "be1e715c-7644-4a4d-8a3a-7ec3ac35d67a",
   "metadata": {},
   "outputs": [],
   "source": [
    "customers_mart.write.jdbc(url=clickhouse_url, properties=clickhouse_properties, mode='append', table='customers_mart')"
   ]
  },
  {
   "cell_type": "markdown",
   "id": "24ef9b1a-34de-4bed-a1ee-a00f9816de30",
   "metadata": {},
   "source": [
    "### Витрина продаж по времени"
   ]
  },
  {
   "cell_type": "code",
   "execution_count": 18,
   "id": "43841d21-bbf5-43d1-8080-891c3f856055",
   "metadata": {},
   "outputs": [
    {
     "name": "stdout",
     "output_type": "stream",
     "text": [
      "+----+-----+-----------+--------------+-------------+-------------+\n",
      "|year|month|total_sales|total_quantity|avg_sale_size|total_revenue|\n",
      "+----+-----+-----------+--------------+-------------+-------------+\n",
      "|2021|   12|        770|          4335|         5.63|    191368.86|\n",
      "|2021|   11|        801|          4297|         5.36|    200154.69|\n",
      "|2021|   10|        892|          4976|         5.58|    228743.32|\n",
      "|2021|    9|        839|          4507|         5.37|    210623.43|\n",
      "|2021|    8|        897|          4818|         5.37|    221275.78|\n",
      "|2021|    7|        858|          4750|         5.54|    220496.51|\n",
      "|2021|    6|        822|          4438|          5.4|     215042.8|\n",
      "|2021|    5|        828|          4451|         5.38|    211764.86|\n",
      "|2021|    4|        837|          4564|         5.45|    206592.82|\n",
      "|2021|    3|        843|          4561|         5.41|     207282.2|\n",
      "|2021|    2|        739|          4070|         5.51|    192348.31|\n",
      "|2021|    1|        874|          4856|         5.56|    224158.54|\n",
      "+----+-----+-----------+--------------+-------------+-------------+\n",
      "\n"
     ]
    }
   ],
   "source": [
    "time_mart = sales_df.select(\n",
    "    'id',\n",
    "    'date',\n",
    "    'quantity',\n",
    "    'total_price'\n",
    ").withColumn('year', year('date')\n",
    ").withColumn('month', month('date')\n",
    ").groupBy(\n",
    "    'year',\n",
    "    'month'\n",
    ").agg(\n",
    "    count('id').alias('total_sales'),\n",
    "    sum('quantity').alias('total_quantity'),\n",
    "    round(avg('quantity'), 2).alias('avg_sale_size'),\n",
    "    round(sum('total_price'), 2).alias('total_revenue')\n",
    ").orderBy(\n",
    "    desc('year'),\n",
    "    desc('month')\n",
    ")\n",
    "\n",
    "time_mart.show()"
   ]
  },
  {
   "cell_type": "code",
   "execution_count": 19,
   "id": "f04cd4bc-9596-4d44-b5a5-3f5682e02007",
   "metadata": {},
   "outputs": [],
   "source": [
    "time_mart.write.jdbc(url=clickhouse_url, properties=clickhouse_properties, mode='append', table='time_mart')"
   ]
  },
  {
   "cell_type": "markdown",
   "id": "6f15f921-a632-4dc4-85e6-e1841db52808",
   "metadata": {},
   "source": [
    "### Витрина продаж по магазинам"
   ]
  },
  {
   "cell_type": "code",
   "execution_count": 20,
   "id": "6bc7fcaf-317a-4708-936c-342ea62d5808",
   "metadata": {},
   "outputs": [
    {
     "name": "stdout",
     "output_type": "stream",
     "text": [
      "+--------+------------+------------+------------------+-----+--------------------+------------+--------------------+--------------+-----------+-------------+-----------+\n",
      "|store_id|  store_name|    location|              city|state|             country|       phone|               email|total_quantity|total_sales|total_revenue|avg_receipt|\n",
      "+--------+------------+------------+------------------+-----+--------------------+------------+--------------------+--------------+-----------+-------------+-----------+\n",
      "|      26|   Babbleset|  14th Floor|          Cibitung|     |           Indonesia|276-186-3743|    kpidgen62@hp.com|            10|          1|       106.84|     106.84|\n",
      "|      29|      Skaboo|     Apt 570|           Barueri|     |           Indonesia|169-243-5134|kduckhouseje@tutt...|             1|          1|        45.83|      45.83|\n",
      "|     474|       Abata|PO Box 12980|    Timiryazevskiy|     |              Greece|707-559-3117|dmackellar7e@harv...|             6|          1|        337.8|      337.8|\n",
      "|     964|    Fivespan|    Suite 74|         København| 1084|              Poland|392-678-0249|gcorstanef@yellow...|             7|          1|       484.06|     484.06|\n",
      "|    1677|      Skinte|    Apt 1841|      Vila Moreira|   14|            Colombia|205-284-1599| jstrettellol@va.gov|             4|          1|       154.16|     154.16|\n",
      "|    1697|      Wikizz|   7th Floor|             Sibut|     |           Indonesia|467-122-9087|fnorcopbv@answers...|             6|          1|        90.42|      90.42|\n",
      "|    1806|     Jaxbean|PO Box 14458|         Manonjaya|     |            Tanzania|299-842-2587| dkeepinbi@ocn.ne.jp|             7|          1|       434.92|     434.92|\n",
      "|    1950|Dazzlesphere|PO Box 72632|            Gapluk|     |               China|665-438-4891|yhughs2x@stumbleu...|             9|          1|       466.21|     466.21|\n",
      "|    2040|   Topiczoom|    Apt 1835|               Boé|   97|               China|614-583-0126|kgovenlockpq@thet...|             2|          1|       396.35|     396.35|\n",
      "|    2214|    Zoomcast|PO Box 12452|             Radā‘|     |             Senegal|407-321-2220|bjakoubecnl@earth...|            10|          1|        74.07|      74.07|\n",
      "|    2250|        Oloo|    Apt 1560|          Bancroft|   ON|               China|936-913-1859|hfiddymonty@youtu.be|             9|          1|        99.35|      99.35|\n",
      "|    2453|    Livefish|    Apt 1896|           Batasan|     |         North Korea|590-952-9895|cwoolen9t@booking...|             2|          1|       225.24|     225.24|\n",
      "|    2509|    Feedspan|PO Box 28020|         Sukamulya|     |              Serbia|114-154-7347|cgoforth2k@networ...|             3|          1|       115.97|     115.97|\n",
      "|    2529|       Quatz| PO Box 6177|              Nora|    T|Palestinian Terri...|849-259-6944|sstourtoncu@netsc...|             6|          1|       447.77|     447.77|\n",
      "|    2927|Jabbersphere|  16th Floor|              Guay|     |               China|206-314-0799|tbramhall9v@wufoo...|             3|          1|       246.47|     246.47|\n",
      "|    3091|       Midel|     Apt 951|             Murça|   17|       United States|787-793-6547|zscarbarrow87@pri...|             1|          1|        48.19|      48.19|\n",
      "|    3506|       Skajo|   Room 1351|            Lianga|     |               China|181-591-4100|    olutasrh@icq.com|             3|          1|        379.3|      379.3|\n",
      "|    3764|     Yakidoo|PO Box 81193|         Zoumaling|     |           Argentina|839-684-7217|thussell6e@china....|            10|          1|        53.61|      53.61|\n",
      "|    4590| Thoughtblab|    Suite 19|Asnières-sur-Seine|   A8|               China|408-873-9212|rraddind9@jalbum.net|             8|          1|       144.15|     144.15|\n",
      "|    4823|      Quamba|    Suite 45|         Palaífyto|     |               China|413-254-1938|kbrafieldor@craig...|             3|          1|       386.78|     386.78|\n",
      "+--------+------------+------------+------------------+-----+--------------------+------------+--------------------+--------------+-----------+-------------+-----------+\n",
      "only showing top 20 rows\n",
      "\n"
     ]
    }
   ],
   "source": [
    "stores_mart = sales_df.join(\n",
    "    stores_df,\n",
    "    (sales_df.store_id == stores_df.id)\n",
    ").groupBy(\n",
    "    sales_df.store_id,\n",
    "    stores_df.name.alias('store_name'),\n",
    "    stores_df.location,\n",
    "    stores_df.city,\n",
    "    stores_df.state,\n",
    "    stores_df.country,\n",
    "    stores_df.phone,\n",
    "    stores_df.email\n",
    ").agg(\n",
    "    sum(sales_df.quantity).alias('total_quantity'),\n",
    "    count('*').alias('total_sales'),\n",
    "    round(sum(sales_df.total_price), 2).alias('total_revenue'),\n",
    "    round(avg(sales_df.total_price), 2).alias('avg_receipt')\n",
    ")\n",
    "\n",
    "stores_mart.show()"
   ]
  },
  {
   "cell_type": "code",
   "execution_count": 21,
   "id": "b9cb820d-3e68-406c-9a64-091d10e6de40",
   "metadata": {},
   "outputs": [
    {
     "name": "stdout",
     "output_type": "stream",
     "text": [
      "+--------+-----------+----------+---------+-----+------------+------------+--------------------+--------------+-----------+-------------+-----------+\n",
      "|store_id| store_name|  location|     city|state|     country|       phone|               email|total_quantity|total_sales|total_revenue|avg_receipt|\n",
      "+--------+-----------+----------+---------+-----+------------+------------+--------------------+--------------+-----------+-------------+-----------+\n",
      "|    6008|       DabZ|13th Floor|   Grekan|     |South Africa|206-444-7223|bfeasby57@archive...|             7|          1|       499.85|     499.85|\n",
      "|    3254|Thoughtblab|  Apt 1200|    Fonte|   13|      Poland|797-399-4968|sstappardbp@amebl...|             9|          1|        499.8|      499.8|\n",
      "|    4343|   Edgeblab|17th Floor|    Pesek|     |   Indonesia|986-221-7024|rivattspm@netscap...|             8|          1|       499.76|     499.76|\n",
      "|    2129|     Camido|  Apt 1720|Longzhong|     |      Sweden|591-803-5126|dsorea0@people.co...|             2|          1|       499.76|     499.76|\n",
      "|    4562|    Centizu|  Suite 86|   Tylicz|     |      Poland|942-946-0325|previllh3@odnokla...|            10|          1|       499.73|     499.73|\n",
      "+--------+-----------+----------+---------+-----+------------+------------+--------------------+--------------+-----------+-------------+-----------+\n",
      "\n"
     ]
    }
   ],
   "source": [
    "top_5_stores = stores_mart.orderBy(desc('total_revenue')).limit(5)\n",
    "\n",
    "top_5_stores.show()"
   ]
  },
  {
   "cell_type": "code",
   "execution_count": 22,
   "id": "c53eaf99-5644-4b95-861a-6b766cf6c4fe",
   "metadata": {},
   "outputs": [
    {
     "name": "stdout",
     "output_type": "stream",
     "text": [
      "+--------------+--------------+-----------+-------------+-----------+\n",
      "|       country|total_quantity|total_sales|total_revenue|avg_receipt|\n",
      "+--------------+--------------+-----------+-------------+-----------+\n",
      "|         China|         10331|       1885|    485709.57|     257.67|\n",
      "|     Indonesia|          6110|       1100|    279350.16|     253.95|\n",
      "|        Russia|          3002|        550|    138155.41|     251.19|\n",
      "|   Philippines|          2509|        492|    125385.36|     254.85|\n",
      "|        Brazil|          2130|        384|     99733.67|     259.72|\n",
      "|      Portugal|          1829|        336|     87104.28|     259.24|\n",
      "|        Poland|          1824|        332|     81313.13|     244.92|\n",
      "|        France|          1705|        323|     82391.57|     255.08|\n",
      "|        Sweden|          1370|        242|     64148.78|     265.08|\n",
      "| United States|          1206|        209|     52713.72|     252.22|\n",
      "|         Japan|           974|        172|     42425.52|     246.66|\n",
      "|Czech Republic|           901|        168|     43757.14|     260.46|\n",
      "|       Ukraine|           921|        164|     40655.71|      247.9|\n",
      "|          Peru|           884|        164|     38301.21|     233.54|\n",
      "|      Thailand|           886|        156|     38115.41|     244.33|\n",
      "|      Colombia|           872|        153|     38397.37|     250.96|\n",
      "|     Argentina|           786|        139|     35184.44|     253.13|\n",
      "|        Greece|           765|        139|     34654.95|     249.32|\n",
      "|        Canada|           672|        123|     31472.58|     255.87|\n",
      "|        Mexico|           537|         97|     24008.42|     247.51|\n",
      "+--------------+--------------+-----------+-------------+-----------+\n",
      "only showing top 20 rows\n",
      "\n"
     ]
    }
   ],
   "source": [
    "country_store_distribution = stores_mart.groupBy(\n",
    "    'country'\n",
    ").agg(\n",
    "    sum('total_quantity').alias('total_quantity'),\n",
    "    sum('total_sales').alias('total_sales'),\n",
    "    round(sum('total_revenue'), 2).alias('total_revenue'),\n",
    "    round(avg('avg_receipt'), 2).alias('avg_receipt')\n",
    ").orderBy(\n",
    "    desc('total_sales'),\n",
    "    desc('total_quantity')\n",
    ")\n",
    "\n",
    "country_store_distribution.show()"
   ]
  },
  {
   "cell_type": "code",
   "execution_count": 23,
   "id": "46adf8ad-2d4c-4e10-9a7a-cdfac27d6752",
   "metadata": {},
   "outputs": [
    {
     "name": "stdout",
     "output_type": "stream",
     "text": [
      "+-------------+--------------+-----------+-------------+-----------+\n",
      "|         city|total_quantity|total_sales|total_revenue|avg_receipt|\n",
      "+-------------+--------------+-----------+-------------+-----------+\n",
      "|    Stockholm|           169|         25|       6881.7|     275.27|\n",
      "|San Francisco|            96|         16|      4576.18|     286.01|\n",
      "|  San Antonio|            81|         15|      4080.05|      272.0|\n",
      "|         Oslo|            71|         14|      3699.71|     264.27|\n",
      "|    Marseille|            57|         11|      2036.65|     185.15|\n",
      "|         Lyon|            58|          9|      2187.88|      243.1|\n",
      "|   San Isidro|            52|          9|      2190.05|     243.34|\n",
      "|   Santa Cruz|            48|          9|      2271.79|     252.42|\n",
      "|     Västerås|            57|          8|      2687.33|     335.92|\n",
      "|    København|            46|          8|      2171.69|     271.46|\n",
      "|       Nantes|            40|          8|      1957.13|     244.64|\n",
      "|   Buenavista|            37|          8|      1641.47|     205.18|\n",
      "|        Borås|            62|          7|      1603.83|     229.12|\n",
      "|     Göteborg|            42|          7|      1837.11|     262.44|\n",
      "|    Linköping|            39|          7|      1671.34|     238.76|\n",
      "|      Houston|            39|          7|      1338.49|     191.21|\n",
      "|  Los Angeles|            45|          6|      2166.36|     361.06|\n",
      "|  San Vicente|            41|          6|       734.94|     122.49|\n",
      "| Kuala Lumpur|            40|          6|      1463.26|     243.88|\n",
      "|      Uppsala|            37|          6|      1320.83|     220.14|\n",
      "+-------------+--------------+-----------+-------------+-----------+\n",
      "only showing top 20 rows\n",
      "\n"
     ]
    }
   ],
   "source": [
    "city_store_distribution = stores_mart.groupBy(\n",
    "    'city'\n",
    ").agg(\n",
    "    sum('total_quantity').alias('total_quantity'),\n",
    "    sum('total_sales').alias('total_sales'),\n",
    "    round(sum('total_revenue'), 2).alias('total_revenue'),\n",
    "    round(avg('avg_receipt'), 2).alias('avg_receipt')\n",
    ").orderBy(\n",
    "    desc('total_sales'),\n",
    "    desc('total_quantity')\n",
    ")\n",
    "\n",
    "city_store_distribution.show()"
   ]
  },
  {
   "cell_type": "code",
   "execution_count": 24,
   "id": "1ca6e0a2-55ef-456d-ac72-1d929d52ee9f",
   "metadata": {},
   "outputs": [],
   "source": [
    "stores_mart.write.jdbc(url=clickhouse_url, properties=clickhouse_properties, mode='append', table='stores_mart')"
   ]
  },
  {
   "cell_type": "markdown",
   "id": "dc9b54b0-6a05-4438-a36b-320fb5dc9cb7",
   "metadata": {},
   "source": [
    "### Витрина продаж по поставщикам"
   ]
  },
  {
   "cell_type": "code",
   "execution_count": 25,
   "id": "b65c48e8-91b1-48bb-8ec3-306fc0d5c6ee",
   "metadata": {},
   "outputs": [
    {
     "name": "stdout",
     "output_type": "stream",
     "text": [
      "+-----------+-------------+-------------------+--------------------+------------+-------------+-----------+--------------+-------------+-----------+\n",
      "|supplier_id|         name|            contact|               email|       phone|         city|    country|total_quantity|total_revenue|total_sales|\n",
      "+-----------+-------------+-------------------+--------------------+------------+-------------+-----------+--------------+-------------+-----------+\n",
      "|       6297|     Livetube|    Alon Bartolozzi|abartolozzi99@stu...|442-769-2128|       Isulan|    Ukraine|             3|       415.54|          1|\n",
      "|       7819|     Realcube|           Bax Elfe|belfeqz@columbia.edu|801-832-3129|        Rrapë| Azerbaijan|             8|       251.86|          1|\n",
      "|       1211|         Jayo|        Jeddy Keyme|  jkeymej1@jimdo.com|468-420-7891|Fastovetskaya|      China|            10|       352.87|          1|\n",
      "|       4277|       Wikivu|   Gwenore Ivchenko|givchenkoi@source...|210-108-7872|Novaya Lyalya|Philippines|            10|       308.17|          1|\n",
      "|       4806|     Fanoodle|     Charlie Attard|cattardoq@science...|122-819-5250|     Lahishyn|  Indonesia|            10|        59.79|          1|\n",
      "|       2983|       Skinix|       Kay Caselick|kcaselickhk@berke...|335-809-3897|   Resplendor|   Portugal|             2|       238.71|          1|\n",
      "|       8342|       Skimia|      Kenn Larchier|klarchier64@uiuc.edu|931-340-4986| Buta Ranquil|    Ireland|             7|       295.93|          1|\n",
      "|       2821|      Voolith|    Charmane Maypes|cmaypeseu@economi...|765-344-1029|       Millet|      China|             6|       287.31|          1|\n",
      "|       3955|       Avamba|    Danny Bittleson|dbittleson8t@csmo...|522-284-9724|     Mattaldi|    Armenia|             5|       201.69|          1|\n",
      "|       1405|         Mudo|     Harlin Cambell|hcambellj6@networ...|846-294-3573|  San Agustin|  Indonesia|             3|       386.06|          1|\n",
      "|       4847|        Skyvu|Montgomery Tordiffe|   mtordiffe53@51.la|595-705-2636|       Fermoy|     Russia|             9|       224.52|          1|\n",
      "|       2924| Jabbersphere|    Evelin Bresland|ebreslandjy@print...|174-845-6054|Liangshuijing|     Brazil|             4|       290.86|          1|\n",
      "|       9518|       Skinix| Jsandye Matelyunas|jmatelyunasl0@t-o...|268-137-1926|   Churovichi|      China|             4|       329.87|          1|\n",
      "|       3217|        Agivu|           Lee Shah|lshahji@123-reg.c...|347-948-3373|       Sagasa|      China|             9|       181.89|          1|\n",
      "|       2803|      Yakidoo|    Bartolemo Caret|bcaretai@indiegog...|303-458-7934|    Bangshipu| Madagascar|             8|       307.86|          1|\n",
      "|       3548|       Skivee|      Florry Norcop|fnorcopbv@sourcef...|820-713-4310|  Lembursawah|     Brazil|             6|        90.42|          1|\n",
      "|       7353|Twitternation| Chiquita Bonnavant|cbonnavantb9@cdba...|697-321-4746|   Dayr Sāmit|    Austria|             5|       412.77|          1|\n",
      "|       6400|     Photobug|     Charley Bulfoy|  cbulfoya@unblog.fr|250-561-4807|     Darunban|     Russia|             5|       452.35|          1|\n",
      "|        673|        Kazio|         Maxy Hughs|mhughsbs@independ...|490-290-9384|       Tanjay|    Nigeria|            10|       227.54|          1|\n",
      "|       6013|    Reallinks|       Roxine Grigg|  rgriggll@google.fr|119-937-7241|     Langtang|      China|             9|        136.9|          1|\n",
      "+-----------+-------------+-------------------+--------------------+------------+-------------+-----------+--------------+-------------+-----------+\n",
      "only showing top 20 rows\n",
      "\n"
     ]
    }
   ],
   "source": [
    "suppliers_mart = sales_df.join(\n",
    "    suppliers_df,\n",
    "    (sales_df.supplier_id == suppliers_df.id)\n",
    ").join(\n",
    "    products_df,\n",
    "    (sales_df.product_id == products_df.id)\n",
    ").groupBy(\n",
    "    suppliers_df.id.alias('supplier_id'),\n",
    "    suppliers_df.name,\n",
    "    suppliers_df.contact,\n",
    "    suppliers_df.email,\n",
    "    suppliers_df.phone,\n",
    "    suppliers_df.city,\n",
    "    suppliers_df.country\n",
    ").agg(\n",
    "    sum(sales_df.quantity).alias('total_quantity'),\n",
    "    round(sum(sales_df.total_price), 2).alias('total_revenue'),\n",
    "    count('*').alias('total_sales')\n",
    ")\n",
    "\n",
    "suppliers_mart.show()"
   ]
  },
  {
   "cell_type": "code",
   "execution_count": 26,
   "id": "0ede3c2d-d81d-4a3e-b140-cf74fe103a7e",
   "metadata": {},
   "outputs": [
    {
     "name": "stdout",
     "output_type": "stream",
     "text": [
      "+-----------+----------+---------------+--------------------+------------+----------+---------+--------------+-------------+-----------+\n",
      "|supplier_id|      name|        contact|               email|       phone|      city|  country|total_quantity|total_revenue|total_sales|\n",
      "+-----------+----------+---------------+--------------------+------------+----------+---------+--------------+-------------+-----------+\n",
      "|       6275|Brainverse|Barbabas Feasby|    bfeasby57@ed.gov|985-466-9726|    Tudela|  Ireland|             7|       499.85|          1|\n",
      "|       1561|     Jamia|   Sax Stappard|sstappardbp@webno...|502-283-5604|     Luleå|   Russia|             9|        499.8|          1|\n",
      "|        714|     Eabox|      Dell Sore|     dsorea0@soup.io|196-123-7189|   Sloboda| Portugal|             2|       499.76|          1|\n",
      "|        800|   Demimbu|  Reggis Ivatts|   rivattspm@nps.gov|110-740-4595|   Begejci|    China|             8|       499.76|          1|\n",
      "|       5566|Browsezoom| Padgett Revill|previllh3@pcworld...|924-878-6915|San Isidro|Argentina|            10|       499.73|          1|\n",
      "+-----------+----------+---------------+--------------------+------------+----------+---------+--------------+-------------+-----------+\n",
      "\n"
     ]
    }
   ],
   "source": [
    "top_5_suppliers = suppliers_mart.orderBy(desc('total_revenue')).limit(5)\n",
    "\n",
    "top_5_suppliers.show()"
   ]
  },
  {
   "cell_type": "code",
   "execution_count": 27,
   "id": "adb44474-c42c-4795-9a35-47725e8a70c9",
   "metadata": {},
   "outputs": [
    {
     "name": "stdout",
     "output_type": "stream",
     "text": [
      "+-----------+-------------+-------------------+--------------------+------------+-------------+-----------+---------+\n",
      "|supplier_id|         name|            contact|               email|       phone|         city|    country|avg_price|\n",
      "+-----------+-------------+-------------------+--------------------+------------+-------------+-----------+---------+\n",
      "|       6297|     Livetube|    Alon Bartolozzi|abartolozzi99@stu...|442-769-2128|       Isulan|    Ukraine|   138.51|\n",
      "|       7819|     Realcube|           Bax Elfe|belfeqz@columbia.edu|801-832-3129|        Rrapë| Azerbaijan|    31.48|\n",
      "|       1211|         Jayo|        Jeddy Keyme|  jkeymej1@jimdo.com|468-420-7891|Fastovetskaya|      China|    35.29|\n",
      "|       4277|       Wikivu|   Gwenore Ivchenko|givchenkoi@source...|210-108-7872|Novaya Lyalya|Philippines|    30.82|\n",
      "|       4806|     Fanoodle|     Charlie Attard|cattardoq@science...|122-819-5250|     Lahishyn|  Indonesia|     5.98|\n",
      "|       2983|       Skinix|       Kay Caselick|kcaselickhk@berke...|335-809-3897|   Resplendor|   Portugal|   119.36|\n",
      "|       8342|       Skimia|      Kenn Larchier|klarchier64@uiuc.edu|931-340-4986| Buta Ranquil|    Ireland|    42.28|\n",
      "|       2821|      Voolith|    Charmane Maypes|cmaypeseu@economi...|765-344-1029|       Millet|      China|    47.89|\n",
      "|       3955|       Avamba|    Danny Bittleson|dbittleson8t@csmo...|522-284-9724|     Mattaldi|    Armenia|    40.34|\n",
      "|       1405|         Mudo|     Harlin Cambell|hcambellj6@networ...|846-294-3573|  San Agustin|  Indonesia|   128.69|\n",
      "|       4847|        Skyvu|Montgomery Tordiffe|   mtordiffe53@51.la|595-705-2636|       Fermoy|     Russia|    24.95|\n",
      "|       2924| Jabbersphere|    Evelin Bresland|ebreslandjy@print...|174-845-6054|Liangshuijing|     Brazil|    72.72|\n",
      "|       9518|       Skinix| Jsandye Matelyunas|jmatelyunasl0@t-o...|268-137-1926|   Churovichi|      China|    82.47|\n",
      "|       3217|        Agivu|           Lee Shah|lshahji@123-reg.c...|347-948-3373|       Sagasa|      China|    20.21|\n",
      "|       2803|      Yakidoo|    Bartolemo Caret|bcaretai@indiegog...|303-458-7934|    Bangshipu| Madagascar|    38.48|\n",
      "|       3548|       Skivee|      Florry Norcop|fnorcopbv@sourcef...|820-713-4310|  Lembursawah|     Brazil|    15.07|\n",
      "|       7353|Twitternation| Chiquita Bonnavant|cbonnavantb9@cdba...|697-321-4746|   Dayr Sāmit|    Austria|    82.55|\n",
      "|       6400|     Photobug|     Charley Bulfoy|  cbulfoya@unblog.fr|250-561-4807|     Darunban|     Russia|    90.47|\n",
      "|        673|        Kazio|         Maxy Hughs|mhughsbs@independ...|490-290-9384|       Tanjay|    Nigeria|    22.75|\n",
      "|       6013|    Reallinks|       Roxine Grigg|  rgriggll@google.fr|119-937-7241|     Langtang|      China|    15.21|\n",
      "+-----------+-------------+-------------------+--------------------+------------+-------------+-----------+---------+\n",
      "only showing top 20 rows\n",
      "\n"
     ]
    }
   ],
   "source": [
    "avg_supplier_price = suppliers_mart.select(\n",
    "    'supplier_id',\n",
    "    'name',\n",
    "    'contact',\n",
    "    'email',\n",
    "    'phone',\n",
    "    'city',\n",
    "    'country',\n",
    "    round(col('total_revenue') / col('total_quantity'), 2).alias('avg_price') \n",
    ")\n",
    "\n",
    "avg_supplier_price.show()"
   ]
  },
  {
   "cell_type": "code",
   "execution_count": 28,
   "id": "710efcff-abab-41d9-b9eb-f8cc584466ee",
   "metadata": {},
   "outputs": [
    {
     "name": "stdout",
     "output_type": "stream",
     "text": [
      "+--------------+-----------+\n",
      "|       country|total_sales|\n",
      "+--------------+-----------+\n",
      "|         China|       1921|\n",
      "|     Indonesia|       1079|\n",
      "|        Russia|        582|\n",
      "|   Philippines|        536|\n",
      "|        Brazil|        376|\n",
      "|      Portugal|        343|\n",
      "|        Poland|        321|\n",
      "|        France|        308|\n",
      "|        Sweden|        217|\n",
      "| United States|        213|\n",
      "|Czech Republic|        176|\n",
      "|         Japan|        171|\n",
      "|       Ukraine|        169|\n",
      "|      Thailand|        163|\n",
      "|      Colombia|        153|\n",
      "|          Peru|        152|\n",
      "|     Argentina|        131|\n",
      "|        Greece|        124|\n",
      "|        Canada|        113|\n",
      "|        Mexico|         99|\n",
      "+--------------+-----------+\n",
      "only showing top 20 rows\n",
      "\n"
     ]
    }
   ],
   "source": [
    "supplier_country_distribution = suppliers_mart.groupBy(\n",
    "    'country'\n",
    ").agg(\n",
    "    sum('total_sales').alias('total_sales')\n",
    ").orderBy(\n",
    "    desc('total_sales')\n",
    ")\n",
    "\n",
    "supplier_country_distribution.show()"
   ]
  },
  {
   "cell_type": "code",
   "execution_count": 29,
   "id": "3793b5e8-2374-45e2-9510-3fc41c6fcb69",
   "metadata": {},
   "outputs": [],
   "source": [
    "suppliers_mart.write.jdbc(url=clickhouse_url, properties=clickhouse_properties, mode='append', table='suppliers_mart')"
   ]
  },
  {
   "cell_type": "markdown",
   "id": "226a2d46-c778-400c-8d0f-107b431a0fdc",
   "metadata": {},
   "source": [
    "### Витрина качества продукции"
   ]
  },
  {
   "cell_type": "code",
   "execution_count": 30,
   "id": "f23daffc-8589-420b-b500-8353e9a27d11",
   "metadata": {},
   "outputs": [
    {
     "name": "stdout",
     "output_type": "stream",
     "text": [
      "+----------+------------+----------+--------------------+-----+----------------+------+-------+--------------+-------------+-----------+\n",
      "|product_id|product_name|     brand|         description|price|product_category|rating|reviews|total_quantity|total_revenue|total_sales|\n",
      "+----------+------------+----------+--------------------+-----+----------------+------+-------+--------------+-------------+-----------+\n",
      "|      9156|   Bird Cage|    Meezzy|Sed ante. Vivamus...|34.96|            Food|   1.5|    494|             8|       414.39|          1|\n",
      "|      5343|   Bird Cage|Realbridge|Aenean lectus. Pe...|81.01|            Food|   2.2|    611|            10|       422.34|          1|\n",
      "|      2069|     Cat Toy|  Topdrive|Curabitur in libe...|75.15|             Toy|   1.0|    506|             5|        197.6|          1|\n",
      "|      4970|     Cat Toy|   Jaxspan|In hac habitasse ...|95.87|            Cage|   2.1|    877|             1|        72.61|          1|\n",
      "|      2404|   Bird Cage|   Demimbu|Morbi porttitor l...|72.66|            Food|   3.0|    240|             2|         80.9|          1|\n",
      "|      8848|   Bird Cage|     Midel|Proin eu mi. Null...|51.67|             Toy|   2.0|    425|             5|       380.85|          1|\n",
      "|      9321|     Cat Toy|  Innotype|Praesent blandit....|25.34|             Toy|   2.7|    244|             1|       419.28|          1|\n",
      "|      2414|     Cat Toy|   Jaxbean|Duis consequat du...| 9.07|            Cage|   1.5|    341|             4|        98.67|          1|\n",
      "|      2894|     Cat Toy|    Skivee|Fusce posuere fel...|91.42|             Toy|   3.8|    261|             9|       437.19|          1|\n",
      "|      3731|    Dog Food|   Flipbug|Praesent id massa...|92.29|            Cage|   4.8|    313|             1|        40.69|          1|\n",
      "|      1918|     Cat Toy|  Flipopia|Suspendisse poten...|47.85|            Cage|   2.7|     85|             4|       461.01|          1|\n",
      "|      8343|    Dog Food|     Roomm|Proin leo odio, p...|50.97|             Toy|   4.1|    586|            10|       420.07|          1|\n",
      "|      1624|   Bird Cage|     Eamia|Suspendisse poten...|84.03|            Food|   1.7|     51|             3|       325.77|          1|\n",
      "|      7157|    Dog Food|   Oyonder|Nulla ut erat id ...|84.16|             Toy|   3.9|    813|             6|       164.21|          1|\n",
      "|      6190|    Dog Food|     Miboo|Proin leo odio, p...|39.02|            Food|   4.7|    392|            10|        67.81|          1|\n",
      "|      3262|    Dog Food|   Youspan|Etiam vel augue. ...|83.66|            Cage|   4.3|    645|             7|       423.04|          1|\n",
      "|      5879|     Cat Toy| Wordpedia|In congue. Etiam ...| 13.3|            Cage|   4.2|    793|             6|       351.31|          1|\n",
      "|       252|   Bird Cage|      Viva|Integer tincidunt...|35.24|            Food|   1.5|    949|             1|        47.71|          1|\n",
      "|       521|    Dog Food|    Twimbo|In hac habitasse ...|96.64|             Toy|   3.1|    407|             6|       425.87|          1|\n",
      "|      5931|    Dog Food|  Fivechat|Aenean fermentum....|92.26|            Cage|   1.2|    439|             4|        55.95|          1|\n",
      "+----------+------------+----------+--------------------+-----+----------------+------+-------+--------------+-------------+-----------+\n",
      "only showing top 20 rows\n",
      "\n"
     ]
    }
   ],
   "source": [
    "quality_mart = sales_df.join(\n",
    "    products_df,\n",
    "    (sales_df.product_id == products_df.id)\n",
    ").groupBy(\n",
    "    products_df.id.alias('product_id'),\n",
    "    products_df.name.alias('product_name'),\n",
    "    products_df.brand,\n",
    "    products_df.description,\n",
    "    products_df.price,\n",
    "    products_df.category.alias('product_category'),\n",
    "    products_df.rating,\n",
    "    products_df.reviews\n",
    ").agg(\n",
    "    sum(sales_df.quantity).alias('total_quantity'),\n",
    "    round(sum(sales_df.total_price), 2).alias('total_revenue'),\n",
    "    count('*').alias('total_sales')\n",
    ")\n",
    "\n",
    "quality_mart.show()"
   ]
  },
  {
   "cell_type": "code",
   "execution_count": 31,
   "id": "2c0aa9f2-49e1-46b1-b048-abfc7a2439ba",
   "metadata": {},
   "outputs": [
    {
     "name": "stdout",
     "output_type": "stream",
     "text": [
      "+----------+------------+--------+--------------------+-----+----------------+------+-------+--------------+-------------+-----------+\n",
      "|product_id|product_name|   brand|         description|price|product_category|rating|reviews|total_quantity|total_revenue|total_sales|\n",
      "+----------+------------+--------+--------------------+-----+----------------+------+-------+--------------+-------------+-----------+\n",
      "|      7675|   Bird Cage|   LiveZ|Curabitur at ipsu...| 96.7|            Cage|   5.0|    953|             4|       258.34|          1|\n",
      "|      8673|    Dog Food|Zoomcast|Vestibulum ac est...|18.93|            Food|   5.0|    911|             9|       270.86|          1|\n",
      "|      7642|   Bird Cage|    Layo|Cras non velit ne...|65.52|             Toy|   5.0|    559|             3|        14.27|          1|\n",
      "|      3728|    Dog Food|   Zoovu|Maecenas ut massa...|23.26|             Toy|   5.0|    966|             1|       410.77|          1|\n",
      "|       413|   Bird Cage|Centimia|Duis bibendum, fe...|89.55|            Food|   5.0|    369|             6|       220.04|          1|\n",
      "+----------+------------+--------+--------------------+-----+----------------+------+-------+--------------+-------------+-----------+\n",
      "\n"
     ]
    }
   ],
   "source": [
    "greatest_rating_products = quality_mart.orderBy(desc('rating')).limit(5)\n",
    "\n",
    "greatest_rating_products.show()"
   ]
  },
  {
   "cell_type": "code",
   "execution_count": 32,
   "id": "a01ee287-999a-46bd-bc4a-58ab623e7821",
   "metadata": {},
   "outputs": [
    {
     "name": "stdout",
     "output_type": "stream",
     "text": [
      "+----------+------------+-------+--------------------+-----+----------------+------+-------+--------------+-------------+-----------+\n",
      "|product_id|product_name|  brand|         description|price|product_category|rating|reviews|total_quantity|total_revenue|total_sales|\n",
      "+----------+------------+-------+--------------------+-----+----------------+------+-------+--------------+-------------+-----------+\n",
      "|      4908|   Bird Cage|Jetwire|In quis justo. Ma...|30.13|             Toy|   1.0|    696|             6|        318.7|          1|\n",
      "|      7879|     Cat Toy| Kaymbo|Mauris enim leo, ...|91.38|            Food|   1.0|    476|             3|       415.54|          1|\n",
      "|      9472|    Dog Food|  Jatri|Proin leo odio, p...|36.52|            Food|   1.0|    738|             3|        373.2|          1|\n",
      "|      2261|    Dog Food|Wikibox|Duis aliquam conv...|90.35|            Cage|   1.0|    639|             1|        469.7|          1|\n",
      "|      9583|    Dog Food|Rhycero|In hac habitasse ...|58.63|            Food|   1.0|    237|             7|       156.92|          1|\n",
      "+----------+------------+-------+--------------------+-----+----------------+------+-------+--------------+-------------+-----------+\n",
      "\n"
     ]
    }
   ],
   "source": [
    "lowest_rating_products = quality_mart.orderBy('rating').limit(5)\n",
    "\n",
    "lowest_rating_products.show()"
   ]
  },
  {
   "cell_type": "code",
   "execution_count": 33,
   "id": "a68361d0-ef8f-45c4-aeda-6f4a35ed86ff",
   "metadata": {},
   "outputs": [
    {
     "name": "stdout",
     "output_type": "stream",
     "text": [
      "+------+-----+\n",
      "|rating|sales|\n",
      "+------+-----+\n",
      "|   5.0|  135|\n",
      "|   4.9|  257|\n",
      "|   4.8|  268|\n",
      "|   4.7|  274|\n",
      "|   4.6|  242|\n",
      "|   4.5|  291|\n",
      "|   4.4|  241|\n",
      "|   4.3|  235|\n",
      "|   4.2|  225|\n",
      "|   4.1|  250|\n",
      "|   4.0|  212|\n",
      "|   3.9|  260|\n",
      "|   3.8|  250|\n",
      "|   3.7|  286|\n",
      "|   3.6|  229|\n",
      "|   3.5|  233|\n",
      "|   3.4|  255|\n",
      "|   3.3|  268|\n",
      "|   3.2|  221|\n",
      "|   3.1|  241|\n",
      "+------+-----+\n",
      "only showing top 20 rows\n",
      "\n"
     ]
    }
   ],
   "source": [
    "sales_quality_corellation = quality_mart.groupBy(\n",
    "    'rating'\n",
    ").agg(\n",
    "    sum('total_sales').alias('sales')\n",
    ").orderBy(\n",
    "    desc('rating')\n",
    ")\n",
    "\n",
    "sales_quality_corellation.show()"
   ]
  },
  {
   "cell_type": "code",
   "execution_count": 34,
   "id": "26f7bb67-6927-460a-b372-cb5d2d47adec",
   "metadata": {},
   "outputs": [
    {
     "name": "stdout",
     "output_type": "stream",
     "text": [
      "+----------+------------+-----------+--------------------+-----+----------------+------+-------+--------------+-------------+-----------+\n",
      "|product_id|product_name|      brand|         description|price|product_category|rating|reviews|total_quantity|total_revenue|total_sales|\n",
      "+----------+------------+-----------+--------------------+-----+----------------+------+-------+--------------+-------------+-----------+\n",
      "|      1524|   Bird Cage|   Edgewire|Lorem ipsum dolor...|38.43|             Toy|   1.7|   1000|             2|        43.54|          1|\n",
      "|       884|    Dog Food|   Gigaclub|Maecenas leo odio...| 44.9|            Food|   1.7|   1000|             7|       311.36|          1|\n",
      "|      7705|    Dog Food|     Skinix|Nullam sit amet t...|31.26|            Food|   2.9|   1000|            10|       398.87|          1|\n",
      "|      8680|     Cat Toy|    Edgeify|Praesent blandit....|34.69|             Toy|   1.6|   1000|             4|       162.89|          1|\n",
      "|       736|   Bird Cage|     Rhyloo|Nulla ut erat id ...|55.84|            Food|   4.0|   1000|            10|        89.63|          1|\n",
      "|      3806|   Bird Cage|  Flashspan|Praesent id massa...|88.97|             Toy|   1.6|   1000|             7|       256.17|          1|\n",
      "|      4351|     Cat Toy|    Demimbu|Nullam porttitor ...|81.39|             Toy|   4.7|   1000|            10|       419.24|          1|\n",
      "|      3682|     Cat Toy|       Oozz|Mauris enim leo, ...|42.21|            Food|   2.1|   1000|             8|        58.71|          1|\n",
      "|      9274|   Bird Cage|    Edgetag|Sed ante. Vivamus...|52.35|            Food|   4.2|   1000|             2|        78.76|          1|\n",
      "|      7090|     Cat Toy|Babblestorm|Curabitur gravida...|42.47|            Cage|   4.6|   1000|             7|       305.96|          1|\n",
      "+----------+------------+-----------+--------------------+-----+----------------+------+-------+--------------+-------------+-----------+\n",
      "\n"
     ]
    }
   ],
   "source": [
    "top_reviewed_products = quality_mart.orderBy(desc('reviews')).limit(10)\n",
    "\n",
    "top_reviewed_products.show()"
   ]
  },
  {
   "cell_type": "code",
   "execution_count": 35,
   "id": "6ac64ad8-5d45-40fb-b7b1-779ec0344f73",
   "metadata": {},
   "outputs": [],
   "source": [
    "quality_mart.write.jdbc(url=clickhouse_url, properties=clickhouse_properties, mode='append', table='quality_mart')"
   ]
  }
 ],
 "metadata": {
  "kernelspec": {
   "display_name": "Python 3 (ipykernel)",
   "language": "python",
   "name": "python3"
  },
  "language_info": {
   "codemirror_mode": {
    "name": "ipython",
    "version": 3
   },
   "file_extension": ".py",
   "mimetype": "text/x-python",
   "name": "python",
   "nbconvert_exporter": "python",
   "pygments_lexer": "ipython3",
   "version": "3.11.6"
  }
 },
 "nbformat": 4,
 "nbformat_minor": 5
}
